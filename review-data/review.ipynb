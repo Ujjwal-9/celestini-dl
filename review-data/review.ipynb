{
 "cells": [
  {
   "cell_type": "code",
   "execution_count": 36,
   "metadata": {},
   "outputs": [
    {
     "name": "stdout",
     "output_type": "stream",
     "text": [
      "Requirement already satisfied: pydub in /opt/miniconda3/envs/super/lib/python3.6/site-packages (0.23.1)\r\n"
     ]
    }
   ],
   "source": [
    "!pip install pydub"
   ]
  },
  {
   "cell_type": "code",
   "execution_count": 19,
   "metadata": {},
   "outputs": [],
   "source": [
    "from pydub import AudioSegment\n",
    "from pydub.playback import play\n",
    "import os\n",
    "import json"
   ]
  },
  {
   "cell_type": "code",
   "execution_count": 2,
   "metadata": {},
   "outputs": [
    {
     "name": "stdout",
     "output_type": "stream",
     "text": [
      "/home/ujjwal/Projects/celestini-dl/review-data\r\n"
     ]
    }
   ],
   "source": [
    "!pwd"
   ]
  },
  {
   "cell_type": "code",
   "execution_count": 11,
   "metadata": {},
   "outputs": [],
   "source": [
    "path = '../celestini-audio-dataset/data/'\n",
    "files = os.listdir(path)"
   ]
  },
  {
   "cell_type": "code",
   "execution_count": 10,
   "metadata": {},
   "outputs": [
    {
     "data": {
      "text/plain": [
       "3374"
      ]
     },
     "execution_count": 10,
     "metadata": {},
     "output_type": "execute_result"
    }
   ],
   "source": [
    "len(files)"
   ]
  },
  {
   "cell_type": "code",
   "execution_count": 22,
   "metadata": {},
   "outputs": [],
   "source": [
    "def rename_file(name, idx, new):\n",
    "    split_name = name.split('-')\n",
    "    split_name[idx] = str(new)\n",
    "    return '-'.join(split_name)"
   ]
  },
  {
   "cell_type": "code",
   "execution_count": 23,
   "metadata": {},
   "outputs": [
    {
     "data": {
      "text/plain": [
       "'background-safe-calm-20190630123839.wav'"
      ]
     },
     "execution_count": 23,
     "metadata": {},
     "output_type": "execute_result"
    }
   ],
   "source": [
    "file"
   ]
  },
  {
   "cell_type": "code",
   "execution_count": 24,
   "metadata": {},
   "outputs": [
    {
     "data": {
      "text/plain": [
       "'background-safe-none-20190630123839.wav'"
      ]
     },
     "execution_count": 24,
     "metadata": {},
     "output_type": "execute_result"
    }
   ],
   "source": [
    "rename_file(file, 2, \"none\")"
   ]
  },
  {
   "cell_type": "markdown",
   "metadata": {},
   "source": [
    "## Menu\n",
    "\n",
    "- q for quit\n",
    "- d for delete\n",
    "- p for replay\n",
    "- e for emotion review\n",
    "- k for keyword review\n",
    "- b for background review\n",
    "- re for rename stress\n",
    "- rb for rename background\n",
    "- rk for rename keyword"
   ]
  },
  {
   "cell_type": "code",
   "execution_count": 34,
   "metadata": {},
   "outputs": [
    {
     "name": "stdout",
     "output_type": "stream",
     "text": [
      "unknown-safe-calm-1561964982.709219.wav\n",
      "Enter your option: d\n",
      "unknown-safe-calm-1561964984.138556.wav\n",
      "Enter your option: q\n"
     ]
    }
   ],
   "source": [
    "emotion_review = []\n",
    "keyword_review = []\n",
    "background_review = []\n",
    "to_delete = []\n",
    "re = {}\n",
    "rb = {}\n",
    "rk = {}\n",
    "for file in files:\n",
    "    print(file)\n",
    "    song = AudioSegment.from_wav(path+file)\n",
    "    play(song)\n",
    "    key_press = str(input(\"Enter your option: \")) \n",
    "    if key_press == 'p':\n",
    "        play(song)\n",
    "        key_press = str(input(\"Enter your option: \"))\n",
    "    if key_press == 'e':\n",
    "        emotion_review.append(file)\n",
    "    elif key_press == 'k':\n",
    "        keyword_review.append(file)\n",
    "    elif key_press == 'b':\n",
    "        background_review.append(file)\n",
    "    elif key_press == 're':\n",
    "        new_emotion = str(input(\"rename emotion: \"))\n",
    "        re[str(file)] = rename_file(file, 2, new_emotion)\n",
    "    elif key_press == 'rb':\n",
    "        new_background = str(input(\"rename background: \"))\n",
    "        rb[str(file)] = rename_file(file, 1, new_background)\n",
    "    elif key_press == 'rk':\n",
    "        new_keyword = str(input(\"rename keyword: \"))\n",
    "        rk[str(file)] = rename_file(file, 0, new_keyword)\n",
    "    elif key_press == 'd':\n",
    "        to_delete.append(file)\n",
    "    elif key_press == 'q':\n",
    "        break\n",
    "    elif key_press == 'o':\n",
    "        continue"
   ]
  },
  {
   "cell_type": "code",
   "execution_count": 35,
   "metadata": {},
   "outputs": [],
   "source": [
    "with open('re.txt', 'w') as json_file:\n",
    "    json.dump(json.dumps([{'name': k, 'suggested': v} for k,v in re.items()]), json_file)\n",
    "with open('rb.txt', 'w') as json_file:\n",
    "    json.dump(json.dumps([{'name': k, 'suggested': v} for k,v in rb.items()]), json_file)\n",
    "with open('rk.txt', 'w') as json_file:\n",
    "    json.dump(json.dumps([{'name': k, 'suggested': v} for k,v in rk.items()]), json_file)\n",
    "with open('to_delete.txt', 'w') as f:\n",
    "    for item in to_delete:\n",
    "        f.write(\"%s\\n\" % item)\n",
    "with open('emotion_review.txt', 'w') as f:\n",
    "    for item in emotion_review:\n",
    "        f.write(\"%s\\n\" % item)\n",
    "with open('background_review.txt', 'w') as f:\n",
    "    for item in background_review:\n",
    "        f.write(\"%s\\n\" % item)\n",
    "with open('keyword_review.txt', 'w') as f:\n",
    "    for item in keyword_review:\n",
    "        f.write(\"%s\\n\" % item)"
   ]
  }
 ],
 "metadata": {
  "kernelspec": {
   "display_name": "Python 3",
   "language": "python",
   "name": "python3"
  },
  "language_info": {
   "codemirror_mode": {
    "name": "ipython",
    "version": 3
   },
   "file_extension": ".py",
   "mimetype": "text/x-python",
   "name": "python",
   "nbconvert_exporter": "python",
   "pygments_lexer": "ipython3",
   "version": "3.6.8"
  }
 },
 "nbformat": 4,
 "nbformat_minor": 2
}
