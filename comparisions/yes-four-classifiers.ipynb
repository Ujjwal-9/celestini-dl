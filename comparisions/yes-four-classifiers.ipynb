{
 "cells": [
  {
   "cell_type": "code",
   "execution_count": 1,
   "metadata": {},
   "outputs": [],
   "source": [
    "TRAIN = 'speech_cmd'"
   ]
  },
  {
   "cell_type": "code",
   "execution_count": 2,
   "metadata": {},
   "outputs": [],
   "source": [
    "speech_path = \"../input/train/audio/\"\n",
    "speech_files = ['go', 'stop', 'yes', 'no']\n",
    "speech_setup = 'speech_setup/'\n",
    "speech_setup_data = speech_path+'data/'\n",
    "rakshak_path = 'rakshak/'"
   ]
  },
  {
   "cell_type": "code",
   "execution_count": 3,
   "metadata": {
    "_cell_guid": "79c7e3d0-c299-4dcb-8224-4455121ee9b0",
    "_uuid": "d629ff2d2480ee46fbb7e2d37f6b5fab8052498a"
   },
   "outputs": [
    {
     "name": "stdout",
     "output_type": "stream",
     "text": [
      "Collecting kapre\r\n",
      "  Downloading https://files.pythonhosted.org/packages/3f/2e/f540d1d1f05c764686163fdb5bb1e5c703f1528076d2829bfc3900683f06/kapre-0.1.4-py3-none-any.whl\r\n",
      "Collecting tensorflow-gpu\r\n",
      "\u001b[?25l  Downloading https://files.pythonhosted.org/packages/76/04/43153bfdfcf6c9a4c38ecdb971ca9a75b9a791bb69a764d652c359aca504/tensorflow_gpu-1.14.0-cp36-cp36m-manylinux1_x86_64.whl (377.0MB)\r\n",
      "\u001b[K     |████████████████████████████████| 377.0MB 56kB/s \r\n",
      "\u001b[?25hRequirement already satisfied: numpy>=1.8.0 in /opt/conda/lib/python3.6/site-packages (from kapre) (1.16.4)\r\n",
      "Requirement already satisfied: librosa>=0.5 in /opt/conda/lib/python3.6/site-packages (from kapre) (0.7.0)\r\n",
      "Requirement already satisfied: keras>=2.0.0 in /opt/conda/lib/python3.6/site-packages (from kapre) (2.2.4)\r\n",
      "Requirement already satisfied: future in /opt/conda/lib/python3.6/site-packages (from kapre) (0.17.1)\r\n",
      "Requirement already satisfied: grpcio>=1.8.6 in /opt/conda/lib/python3.6/site-packages (from tensorflow-gpu) (1.22.0)\r\n",
      "Requirement already satisfied: keras-applications>=1.0.6 in /opt/conda/lib/python3.6/site-packages (from tensorflow-gpu) (1.0.8)\r\n",
      "Requirement already satisfied: google-pasta>=0.1.6 in /opt/conda/lib/python3.6/site-packages (from tensorflow-gpu) (0.1.7)\r\n",
      "Requirement already satisfied: protobuf>=3.6.1 in /opt/conda/lib/python3.6/site-packages (from tensorflow-gpu) (3.7.1)\r\n",
      "Requirement already satisfied: tensorboard<1.15.0,>=1.14.0 in /opt/conda/lib/python3.6/site-packages (from tensorflow-gpu) (1.14.0)\r\n",
      "Requirement already satisfied: wheel>=0.26 in /opt/conda/lib/python3.6/site-packages (from tensorflow-gpu) (0.33.4)\r\n",
      "Requirement already satisfied: termcolor>=1.1.0 in /opt/conda/lib/python3.6/site-packages (from tensorflow-gpu) (1.1.0)\r\n",
      "Requirement already satisfied: keras-preprocessing>=1.0.5 in /opt/conda/lib/python3.6/site-packages (from tensorflow-gpu) (1.1.0)\r\n",
      "Requirement already satisfied: six>=1.10.0 in /opt/conda/lib/python3.6/site-packages (from tensorflow-gpu) (1.12.0)\r\n",
      "Requirement already satisfied: wrapt>=1.11.1 in /opt/conda/lib/python3.6/site-packages (from tensorflow-gpu) (1.11.2)\r\n",
      "Requirement already satisfied: astor>=0.6.0 in /opt/conda/lib/python3.6/site-packages (from tensorflow-gpu) (0.8.0)\r\n",
      "Requirement already satisfied: absl-py>=0.7.0 in /opt/conda/lib/python3.6/site-packages (from tensorflow-gpu) (0.7.1)\r\n",
      "Requirement already satisfied: gast>=0.2.0 in /opt/conda/lib/python3.6/site-packages (from tensorflow-gpu) (0.2.2)\r\n",
      "Requirement already satisfied: tensorflow-estimator<1.15.0rc0,>=1.14.0rc0 in /opt/conda/lib/python3.6/site-packages (from tensorflow-gpu) (1.14.0)\r\n",
      "Requirement already satisfied: scikit-learn!=0.19.0,>=0.14.0 in /opt/conda/lib/python3.6/site-packages (from librosa>=0.5->kapre) (0.21.2)\r\n",
      "Requirement already satisfied: resampy>=0.2.0 in /opt/conda/lib/python3.6/site-packages (from librosa>=0.5->kapre) (0.2.1)\r\n",
      "Requirement already satisfied: soundfile>=0.9.0 in /opt/conda/lib/python3.6/site-packages (from librosa>=0.5->kapre) (0.10.2)\r\n",
      "Requirement already satisfied: audioread>=2.0.0 in /opt/conda/lib/python3.6/site-packages (from librosa>=0.5->kapre) (2.1.8)\r\n",
      "Requirement already satisfied: numba>=0.38.0 in /opt/conda/lib/python3.6/site-packages (from librosa>=0.5->kapre) (0.44.1)\r\n",
      "Requirement already satisfied: joblib>=0.12 in /opt/conda/lib/python3.6/site-packages (from librosa>=0.5->kapre) (0.13.2)\r\n",
      "Requirement already satisfied: decorator>=3.0.0 in /opt/conda/lib/python3.6/site-packages (from librosa>=0.5->kapre) (4.4.0)\r\n",
      "Requirement already satisfied: scipy>=1.0.0 in /opt/conda/lib/python3.6/site-packages (from librosa>=0.5->kapre) (1.2.1)\r\n",
      "Requirement already satisfied: pyyaml in /opt/conda/lib/python3.6/site-packages (from keras>=2.0.0->kapre) (5.1.1)\r\n",
      "Requirement already satisfied: h5py in /opt/conda/lib/python3.6/site-packages (from keras>=2.0.0->kapre) (2.9.0)\r\n",
      "Requirement already satisfied: setuptools in /opt/conda/lib/python3.6/site-packages (from protobuf>=3.6.1->tensorflow-gpu) (41.0.1)\r\n",
      "Requirement already satisfied: markdown>=2.6.8 in /opt/conda/lib/python3.6/site-packages (from tensorboard<1.15.0,>=1.14.0->tensorflow-gpu) (3.1.1)\r\n",
      "Requirement already satisfied: werkzeug>=0.11.15 in /opt/conda/lib/python3.6/site-packages (from tensorboard<1.15.0,>=1.14.0->tensorflow-gpu) (0.15.4)\r\n",
      "Requirement already satisfied: cffi>=1.0 in /opt/conda/lib/python3.6/site-packages (from soundfile>=0.9.0->librosa>=0.5->kapre) (1.12.3)\r\n",
      "Requirement already satisfied: llvmlite>=0.29.0 in /opt/conda/lib/python3.6/site-packages (from numba>=0.38.0->librosa>=0.5->kapre) (0.29.0)\r\n",
      "Requirement already satisfied: pycparser in /opt/conda/lib/python3.6/site-packages (from cffi>=1.0->soundfile>=0.9.0->librosa>=0.5->kapre) (2.19)\r\n",
      "Installing collected packages: kapre, tensorflow-gpu\r\n",
      "Successfully installed kapre-0.1.4 tensorflow-gpu-1.14.0\r\n"
     ]
    }
   ],
   "source": [
    "!pip install kapre tensorflow-gpu"
   ]
  },
  {
   "cell_type": "code",
   "execution_count": 4,
   "metadata": {},
   "outputs": [
    {
     "name": "stdout",
     "output_type": "stream",
     "text": [
      "Cloning into 'rakshak'...\r\n",
      "remote: Enumerating objects: 13, done.\u001b[K\r\n",
      "remote: Counting objects: 100% (13/13), done.\u001b[K\r\n",
      "remote: Compressing objects: 100% (12/12), done.\u001b[K\r\n",
      "remote: Total 7923 (delta 2), reused 12 (delta 1), pack-reused 7910\u001b[K\r\n",
      "Receiving objects: 100% (7923/7923), 548.20 MiB | 21.45 MiB/s, done.\r\n",
      "Resolving deltas: 100% (619/619), done.\r\n",
      "Checking out files: 100% (7848/7848), done.\r\n"
     ]
    }
   ],
   "source": [
    "# put dataset in folder named rakshak"
   ]
  },
  {
   "cell_type": "code",
   "execution_count": 5,
   "metadata": {},
   "outputs": [
    {
     "name": "stderr",
     "output_type": "stream",
     "text": [
      "Using TensorFlow backend.\n"
     ]
    }
   ],
   "source": [
    "import os\n",
    "import random\n",
    "import numpy as np\n",
    "from scipy.io import wavfile\n",
    "import librosa\n",
    "from tqdm import tqdm\n",
    "import gc\n",
    "\n",
    "import warnings\n",
    "warnings.filterwarnings(\"ignore\")\n",
    "\n",
    "import matplotlib.pyplot as plt\n",
    "from matplotlib.backend_bases import RendererBase\n",
    "\n",
    "import plotly as py\n",
    "py.tools.set_credentials_file(username='Ujjwal999',api_key='<your-key>')\n",
    "\n",
    "import plotly.plotly as py\n",
    "import plotly.graph_objs as go\n",
    "\n",
    "# import cufflinks as cf\n",
    "from sklearn.metrics import precision_recall_curve\n",
    "from sklearn.metrics import average_precision_score\n",
    "from sklearn.metrics import f1_score, precision_score, recall_score, confusion_matrix\n",
    "\n",
    "import tensorflow as tf\n",
    "import kapre\n",
    "from keras.models import Sequential\n",
    "from keras.layers import Dense,AveragePooling2D\n",
    "from kapre.time_frequency import Melspectrogram\n",
    "from kapre.utils import Normalization2D\n",
    "from kapre.augmentation import AdditiveNoise\n",
    "import keras\n",
    "from keras.models import Sequential\n",
    "from keras.layers import Conv1D, Dense, Dropout, Flatten, Conv2D, MaxPooling2D,SeparableConv2D,BatchNormalization,LSTM,Reshape,TimeDistributed\n",
    "\n",
    "from keras.utils.np_utils import to_categorical\n",
    "from sklearn.preprocessing import LabelEncoder\n",
    "\n",
    "random.seed(4)"
   ]
  },
  {
   "cell_type": "code",
   "execution_count": 6,
   "metadata": {},
   "outputs": [],
   "source": [
    "if not os.path.isdir('rakshak/models'):\n",
    "    os.mkdir('rakshak/models')\n",
    "else:\n",
    "    print(\"Already There\")"
   ]
  },
  {
   "cell_type": "code",
   "execution_count": 7,
   "metadata": {},
   "outputs": [],
   "source": [
    "def roll(data):\n",
    "    data_roll = np.roll(data, 5000)\n",
    "    return data_roll\n",
    "\n",
    "def stretch(data, rate=2):\n",
    "    input_length = 16000*3\n",
    "    data = librosa.effects.time_stretch(np.array(data, dtype=np.float32), rate)\n",
    "    if len(data)>input_length:\n",
    "        data = data[:input_length]\n",
    "    else:\n",
    "        data = np.pad(data, (0, max(0, input_length - len(data))), \"constant\")\n",
    "    return data.tolist()\n",
    "\n",
    "def wnoise(data):\n",
    "    wn = np.random.randn(len(data))\n",
    "    data_wn = data + 0.005*wn\n",
    "    return data_wn"
   ]
  },
  {
   "cell_type": "code",
   "execution_count": 8,
   "metadata": {},
   "outputs": [],
   "source": [
    "def make_3_second(path, files):\n",
    "    sr, data = wavfile.read(path+files)\n",
    "    data = data.tolist()\n",
    "    for i in range(2):\n",
    "        data_1 = [0]*16000\n",
    "        r = random.random()\n",
    "        if r >= 0.5:\n",
    "            data.extend(data_1)\n",
    "        else:\n",
    "            data_1.extend(data)\n",
    "            data = data_1        \n",
    "    if len(data) != 48000:\n",
    "        data.extend([0]*(48000-len(data)))\n",
    "    data = data[:48000]\n",
    "    return data"
   ]
  },
  {
   "cell_type": "code",
   "execution_count": 9,
   "metadata": {},
   "outputs": [],
   "source": [
    "def speech_command(new_split=True, speech_setup=speech_setup):\n",
    "    speech_split = {'train.txt':[], 'test.txt':[], 'valid.txt':[]}\n",
    "    for file in speech_split.keys():\n",
    "        if os.path.exists(speech_setup+file):\n",
    "#             os.remove(speech_setup+file)\n",
    "#             split_speech_cmd = True\n",
    "            new_split = False\n",
    "            with open(file) as f:\n",
    "                for line in f:\n",
    "                    speech_split[key].append(line.strip())\n",
    "    speech_cmd = {'train':[[],[]], 'valid':[[],[]], 'test':[[],[]]}\n",
    "    to_test = True\n",
    "    for folder in speech_files:\n",
    "        files = os.listdir(speech_path+folder)\n",
    "        for file in tqdm(files):\n",
    "            file_path = folder+'/'+file\n",
    "            if new_split == False and os.path.isdir(speech_setup_data):\n",
    "                sr, data = wavfile.read(speech_path, file_path)\n",
    "#             if save_processed_speech_cmd_files and new_split:\n",
    "#                 wavfile.write(speech_setup_data+file_path, 16000, np.array(data, dtype=np.int16))\n",
    "            if new_split:\n",
    "                r = random.random()\n",
    "                if r <= 0.7:\n",
    "                    if TRAIN == 'speech_cmd':\n",
    "                        data = make_3_second(speech_path, file_path)\n",
    "                        speech_split['train.txt'].append(file_path)\n",
    "                        speech_cmd['train'][0].append(data[:48000])\n",
    "                        speech_cmd['train'][1].append(folder)\n",
    "                    else:\n",
    "                        continue\n",
    "                else:\n",
    "                    data = make_3_second(speech_path, file_path)\n",
    "                    if to_test:\n",
    "                        to_test = False\n",
    "                        speech_split['test.txt'].append(file_path)\n",
    "                        speech_cmd['test'][0].append(data[:48000])\n",
    "                        speech_cmd['test'][1].append(folder)\n",
    "                    else:\n",
    "                        to_test = True\n",
    "                        speech_split['valid.txt'].append(file_path)\n",
    "                        speech_cmd['valid'][0].append(data[:48000])\n",
    "                        speech_cmd['valid'][1].append(folder)\n",
    "            else:\n",
    "                if (file_path in speech_split['train.txt']):\n",
    "                    if TRAIN == 'speech_cmd':\n",
    "                        speech_cmd['train'][0].append(data[:48000])\n",
    "                        speech_cmd['train'][1].append(folder)\n",
    "                elif file_path in speech_split['valid.txt']:\n",
    "                    speech_cmd['valid'][0].append(data)\n",
    "                    speech_cmd['valid'][1].append(folder)\n",
    "                else:\n",
    "                    speech_cmd['test'][0].append(data)\n",
    "                    speech_cmd['test'][1].append(folder)\n",
    "    return speech_split, speech_cmd"
   ]
  },
  {
   "cell_type": "code",
   "execution_count": 10,
   "metadata": {},
   "outputs": [
    {
     "name": "stderr",
     "output_type": "stream",
     "text": [
      "100%|██████████| 2372/2372 [00:06<00:00, 357.68it/s]\n",
      "100%|██████████| 2380/2380 [00:06<00:00, 355.08it/s]\n",
      "100%|██████████| 2377/2377 [00:06<00:00, 351.26it/s]\n",
      "100%|██████████| 2375/2375 [00:08<00:00, 266.22it/s]\n"
     ]
    },
    {
     "data": {
      "text/plain": [
       "22"
      ]
     },
     "execution_count": 10,
     "metadata": {},
     "output_type": "execute_result"
    }
   ],
   "source": [
    "speech_split, speech_cmd = speech_command()\n",
    "gc.collect()"
   ]
  },
  {
   "cell_type": "code",
   "execution_count": 11,
   "metadata": {},
   "outputs": [],
   "source": [
    "for key in speech_cmd.keys():\n",
    "    speech_cmd[key][0] = np.array(speech_cmd[key][0])\n",
    "    speech_cmd[key][1] = np.array(speech_cmd[key][1])"
   ]
  },
  {
   "cell_type": "code",
   "execution_count": 12,
   "metadata": {},
   "outputs": [
    {
     "name": "stdout",
     "output_type": "stream",
     "text": [
      "train : (6604, 48000)\n",
      "valid : (1450, 48000)\n",
      "test : (1450, 48000)\n"
     ]
    },
    {
     "data": {
      "text/plain": [
       "0"
      ]
     },
     "execution_count": 12,
     "metadata": {},
     "output_type": "execute_result"
    }
   ],
   "source": [
    "for key in speech_cmd.keys():\n",
    "    print(key, \":\", speech_cmd[key][0].shape)\n",
    "gc.collect()"
   ]
  },
  {
   "cell_type": "code",
   "execution_count": 13,
   "metadata": {},
   "outputs": [
    {
     "name": "stdout",
     "output_type": "stream",
     "text": [
      "speech_cmd train data shape:  (6604, 48000)\n",
      "speech_cmd train labels shape:  (6604,)\n",
      "speech_cmd test data shape:  (2900, 48000)\n",
      "speech_cmd test labels shape:  (2900,)\n"
     ]
    }
   ],
   "source": [
    "speech_cmd_train_data = speech_cmd['train'][0]\n",
    "speech_cmd_train_labels = speech_cmd['train'][1]\n",
    "speech_cmd_test_data = np.vstack((speech_cmd['test'][0], speech_cmd['valid'][0]))\n",
    "speech_cmd_test_labels = []\n",
    "for key in speech_cmd.keys():\n",
    "    if key == 'train':\n",
    "        continue\n",
    "    speech_cmd_test_labels.extend(speech_cmd[key][1])\n",
    "speech_cmd_test_labels = np.array(speech_cmd_test_labels)\n",
    "print(\"speech_cmd train data shape: \", speech_cmd_train_data.shape)\n",
    "print(\"speech_cmd train labels shape: \", speech_cmd_train_labels.shape)\n",
    "print(\"speech_cmd test data shape: \", speech_cmd_test_data.shape)\n",
    "print(\"speech_cmd test labels shape: \", speech_cmd_test_labels.shape)\n",
    "del speech_cmd"
   ]
  },
  {
   "cell_type": "code",
   "execution_count": 14,
   "metadata": {},
   "outputs": [],
   "source": [
    "sr = 16000\n",
    "input_shape = (1,sr*3)\n",
    "def edgespeechneta():\n",
    "    tensorboard_callback = tf.keras.callbacks.TensorBoard(\"logs/esna\")\n",
    "    model = Sequential()\n",
    "    # A mel-spectrogram layer\n",
    "    model.add(Melspectrogram(n_dft=512, n_hop=512, input_shape=input_shape,\n",
    "                             padding='same', sr=sr, n_mels=128,\n",
    "                             fmin=0.0, fmax=sr/2, power_melgram=1.0,\n",
    "                             return_decibel_melgram=True,trainable_fb=False,\n",
    "                             trainable_kernel=False,\n",
    "                             name='trainable_stft'))\n",
    "    # Maybe some additive white noise.\n",
    "    model.add(AdditiveNoise(power=0.1))\n",
    "    # If you wanna normalise it per-frequency\n",
    "    model.add(Normalization2D(str_axis='freq')) # or 'channel', 'time', 'batch', 'data_sample'\n",
    "    # After this, it's just a usual keras workflow. For example..\n",
    "    # Add some layers, e.g., model.add(some convolution layers..)\n",
    "\n",
    "    # Compile the model\n",
    "    model.add(Conv2D(39, kernel_size=(3, 3), activation='relu'))\n",
    "    model.add(Conv2D(20, kernel_size=(3, 3), activation='relu',dim_ordering=\"th\"))\n",
    "    model.add(Conv2D(39, kernel_size=(3, 3), activation='relu',dim_ordering=\"th\"))\n",
    "    model.add(Dropout(0.25))\n",
    "    model.add(Conv2D(15, kernel_size=(3, 3), activation='relu',dim_ordering=\"th\"))\n",
    "    model.add(Conv2D(39, kernel_size=(3, 3), activation='relu',dim_ordering=\"th\"))\n",
    "    model.add(Dropout(0.25))\n",
    "    model.add(Conv2D(25, kernel_size=(3, 3), activation='relu',dim_ordering=\"th\"))\n",
    "    model.add(Conv2D(39, kernel_size=(3, 3), activation='relu',dim_ordering=\"th\"))\n",
    "    model.add(Dropout(0.25))\n",
    "    model.add(Conv2D(22, kernel_size=(3, 3), activation='relu',dim_ordering=\"th\"))\n",
    "    model.add(Conv2D(39, kernel_size=(3, 3), activation='relu',dim_ordering=\"th\"))\n",
    "    model.add(Dropout(0.25))\n",
    "    model.add(Conv2D(22, kernel_size=(3, 3), activation='relu',dim_ordering=\"th\"))\n",
    "    model.add(Conv2D(39, kernel_size=(3, 3), activation='relu',dim_ordering=\"th\"))\n",
    "    model.add(Dropout(0.25))\n",
    "    model.add(Conv2D(25, kernel_size=(3, 3), activation='relu',dim_ordering=\"th\"))\n",
    "    model.add(Conv2D(39, kernel_size=(3, 3), activation='relu',dim_ordering=\"th\"))\n",
    "    model.add(Conv2D(45, kernel_size=(3, 3), activation='relu',dim_ordering=\"th\"))\n",
    "    model.add(AveragePooling2D(pool_size=(2, 2)))\n",
    "    model.add(Flatten())\n",
    "    model.add(Dense(4, activation='softmax'))\n",
    "    return model, \"esna\"\n",
    "\n",
    "def edgespeechnetb():\n",
    "    tensorboard_callback = tf.keras.callbacks.TensorBoard(\"logs/edgespeechnet-b-100e\")\n",
    "    model = Sequential()\n",
    "    # A mel-spectrogram layer\n",
    "    model.add(Melspectrogram(n_dft=512, n_hop=512, input_shape=input_shape,\n",
    "                             padding='same', sr=sr, n_mels=128,\n",
    "                             fmin=0.0, fmax=sr/2, power_melgram=1.0,\n",
    "                             return_decibel_melgram=True,trainable_fb=False,\n",
    "                             trainable_kernel=False,\n",
    "                             name='trainable_stft'))\n",
    "    # Maybe some additive white noise.\n",
    "    model.add(AdditiveNoise(power=0.1))\n",
    "    # If you wanna normalise it per-frequency\n",
    "    model.add(Normalization2D(str_axis='freq')) # or 'channel', 'time', 'batch', 'data_sample'\n",
    "    # After this, it's just a usual keras workflow. For example..\n",
    "    # Add some layers, e.g., model.add(some convolution layers..)\n",
    "\n",
    "    # Compile the model\n",
    "    model.add(Conv2D(45, kernel_size=(3, 3), activation='relu'))\n",
    "    model.add(AveragePooling2D(pool_size=(2, 2)))\n",
    "    model.add(Conv2D(30, kernel_size=(3, 3), activation='relu',dim_ordering=\"th\"))\n",
    "    model.add(Conv2D(45, kernel_size=(3, 3), activation='relu',dim_ordering=\"th\"))\n",
    "    model.add(Conv2D(33, kernel_size=(3, 3), activation='relu',dim_ordering=\"th\"))\n",
    "    model.add(Conv2D(45, kernel_size=(3, 3), activation='relu',dim_ordering=\"th\"))\n",
    "    model.add(Conv2D(35, kernel_size=(3, 3), activation='relu',dim_ordering=\"th\"))\n",
    "    model.add(Conv2D(45, kernel_size=(3, 3), activation='relu',dim_ordering=\"th\"))\n",
    "\n",
    "    model.add(AveragePooling2D(pool_size=(2, 2)))\n",
    "    model.add(Flatten())\n",
    "    model.add(Dense(1, activation='sigmoid'))\n",
    "    return model, \"esnb\"\n",
    "\n",
    "def cnn():\n",
    "    tensorboard_callback = tf.keras.callbacks.TensorBoard(\"logs/cnn-100e\")\n",
    "    model = Sequential()\n",
    "    # A mel-spectrogram layer\n",
    "    model.add(Melspectrogram(n_dft=512, n_hop=512, input_shape=input_shape,\n",
    "                             padding='same', sr=sr, n_mels=128,\n",
    "                             fmin=0.0, fmax=sr/2, power_melgram=1.0,\n",
    "                             return_decibel_melgram=True,trainable_fb=False,\n",
    "                             trainable_kernel=False,\n",
    "                             name='trainable_stft'))\n",
    "    # Maybe some additive white noise.\n",
    "    model.add(AdditiveNoise(power=0.1))\n",
    "    # If you wanna normalise it per-frequency\n",
    "    model.add(Normalization2D(str_axis='freq')) # or 'channel', 'time', 'batch', 'data_sample'\n",
    "    # After this, it's just a usual keras workflow. For example..\n",
    "    # Add some layers, e.g., model.add(some convolution layers..)\n",
    "    # Compile the model\n",
    "\n",
    "    model.add(Conv2D(64, kernel_size=(20, 8), activation='relu'))\n",
    "    model.add(MaxPooling2D(pool_size=(2, 2),dim_ordering=\"th\"))\n",
    "    model.add(Dropout(0.25))\n",
    "    model.add(Conv2D(64, kernel_size=(10, 4), activation='relu',dim_ordering=\"th\"))\n",
    "    model.add(MaxPooling2D(pool_size=(2, 2),dim_ordering=\"th\"))\n",
    "    model.add(Dropout(0.25))\n",
    "    model.add(Flatten())\n",
    "    model.add(Dense(128, activation='relu'))\n",
    "    model.add(Dropout(0.25))\n",
    "    model.add(Dense(4, activation='softmax'))\n",
    "    return model, \"cnn\"\n",
    "\n",
    "def AttRNNSpeechModel(nlabels, sr = sr, input_shape = input_shape):\n",
    "    inputs = Input(shape=(1,sr*3))\n",
    "    x = Melspectrogram(n_dft=512, n_hop=512, input_shape=input_shape,\n",
    "                             padding='same', sr=sr, n_mels=128,\n",
    "                             fmin=0.0, fmax=sr/2, power_melgram=1.0,\n",
    "                             return_decibel_melgram=True,trainable_fb=False,\n",
    "                             trainable_kernel=False,\n",
    "                             name='trainable_stft') (inputs)\n",
    "    x = AdditiveNoise(power=0.1)(x)\n",
    "    x = Normalization2D(int_axis=0)(x)\n",
    "    x = Permute((2,1,3)) (x)\n",
    "    x = Conv2D(10, (5,1) , activation='relu', padding='same') (x)\n",
    "    x = BatchNormalization() (x)\n",
    "    x = Conv2D(1, (5,1) , activation='relu', padding='same') (x)\n",
    "    x = BatchNormalization() (x)\n",
    "    x = Lambda(lambda q: K.squeeze(q, -1), name='squeeze_last_dim') (x)\n",
    "    x = Bidirectional(CuDNNLSTM(64, return_sequences = True)) (x) \n",
    "    x = Bidirectional(CuDNNLSTM(64, return_sequences = True)) (x) \n",
    "    xFirst = Lambda(lambda q: q[:,64]) (x)\n",
    "    query = Dense(128) (xFirst)\n",
    "    attScores = Dot(axes=[1,2])([query, x]) \n",
    "    attScores = Softmax(name='attSoftmax')(attScores)\n",
    "    attVector = Dot(axes=[1,1])([attScores, x])\n",
    "    x = Dense(64, activation = 'relu')(attVector)\n",
    "    x = Dense(32)(x)\n",
    "    output = Dense(nlabels, activation = 'softmax', name='output')(x)\n",
    "    model = Model(inputs=[inputs], outputs=[output])\n",
    "    return model, \"attn\""
   ]
  },
  {
   "cell_type": "code",
   "execution_count": 15,
   "metadata": {},
   "outputs": [],
   "source": [
    "speech_cmd_train_data = speech_cmd_train_data.reshape(speech_cmd_train_data.shape[0], 1, 16000 * 3)\n",
    "speech_cmd_test_data = speech_cmd_test_data.reshape(speech_cmd_test_data.shape[0], 1, 16000 * 3)"
   ]
  },
  {
   "cell_type": "code",
   "execution_count": 16,
   "metadata": {},
   "outputs": [],
   "source": [
    "def train_keyword(keyword, epochs=10, batch_size=50):\n",
    "    labelencoder = LabelEncoder()\n",
    "    train_labels, test_labels = speech_cmd_train_labels.copy(), speech_cmd_test_labels.copy()\n",
    "    print(np.unique(train_labels))\n",
    "    np.place(train_labels, train_labels != keyword, \"unknown\")\n",
    "    np.place(test_labels, test_labels != keyword, \"unknown\")\n",
    "    print(np.unique(train_labels))\n",
    "    train_labels = labelencoder.fit_transform(train_labels)\n",
    "    test_labels = labelencoder.transform(test_labels)\n",
    "    mapping = dict(zip(labelencoder.classes_, range(len(labelencoder.classes_))))\n",
    "    print(\"mapping: \", mapping)\n",
    "    model, model_name = edgespeechnetb()\n",
    "    model.compile(loss=keras.losses.binary_crossentropy, optimizer=keras.optimizers.adam(), metrics=['accuracy'])\n",
    "    model.fit(speech_cmd_train_data, train_labels, batch_size=batch_size, epochs=epochs, verbose=1, validation_data=(speech_cmd_test_data, test_labels))\n",
    "    preds = model.predict(speech_cmd_test_data)\n",
    "    eval_ = model.evaluate(speech_cmd_test_data, test_labels)\n",
    "    print(\"\\nloss:{}\\naccuracy:{}\".format(eval_[0], eval_[1]))\n",
    "    precision, recall, _ = precision_recall_curve(test_labels, preds)\n",
    "    average_precision = average_precision_score(test_labels, preds)\n",
    "    plt.figure()\n",
    "    plt.step(recall, precision, color='b', alpha=0.2, where='post')\n",
    "    plt.fill_between(recall, precision, alpha=0.2, color='b')\n",
    "    plt.xlabel('Recall')\n",
    "    plt.ylabel('Precision')\n",
    "    plt.ylim([0.0, 1.05])\n",
    "    plt.xlim([0.0, 1.0])\n",
    "    plt.title('Precision Recall curve for class {}'.format(keyword))\n",
    "    plt.show()\n",
    "    model.save('rakshak/models/{}_{}_{}.h5'.format(model_name, TRAIN, keyword))\n",
    "    return model"
   ]
  },
  {
   "cell_type": "code",
   "execution_count": 17,
   "metadata": {},
   "outputs": [
    {
     "name": "stdout",
     "output_type": "stream",
     "text": [
      "['go' 'no' 'stop' 'yes']\n",
      "['go' 'unkn']\n",
      "mapping:  {'go': 0, 'unkn': 1}\n",
      "Train on 6604 samples, validate on 2900 samples\n",
      "Epoch 1/10\n",
      "6604/6604 [==============================] - 9s 1ms/step - loss: 0.5611 - acc: 0.7473 - val_loss: 0.6633 - val_acc: 0.7490\n",
      "Epoch 2/10\n",
      "6604/6604 [==============================] - 5s 787us/step - loss: 0.5101 - acc: 0.7502 - val_loss: 0.5373 - val_acc: 0.7490\n",
      "Epoch 3/10\n",
      "6604/6604 [==============================] - 5s 780us/step - loss: 0.4367 - acc: 0.7518 - val_loss: 0.4421 - val_acc: 0.7431\n",
      "Epoch 4/10\n",
      "6604/6604 [==============================] - 5s 783us/step - loss: 0.4016 - acc: 0.7592 - val_loss: 0.4133 - val_acc: 0.7669\n",
      "Epoch 5/10\n",
      "6604/6604 [==============================] - 5s 786us/step - loss: 0.3710 - acc: 0.7865 - val_loss: 0.3085 - val_acc: 0.8590\n",
      "Epoch 6/10\n",
      "6604/6604 [==============================] - 5s 788us/step - loss: 0.2653 - acc: 0.8889 - val_loss: 0.2902 - val_acc: 0.8838\n",
      "Epoch 7/10\n",
      "6604/6604 [==============================] - 5s 786us/step - loss: 0.2020 - acc: 0.9211 - val_loss: 0.3541 - val_acc: 0.8441\n",
      "Epoch 8/10\n",
      "6604/6604 [==============================] - 5s 783us/step - loss: 0.1599 - acc: 0.9356 - val_loss: 0.2117 - val_acc: 0.9110\n",
      "Epoch 9/10\n",
      "6604/6604 [==============================] - 5s 782us/step - loss: 0.1412 - acc: 0.9400 - val_loss: 0.2256 - val_acc: 0.9162\n",
      "Epoch 10/10\n",
      "6604/6604 [==============================] - 5s 782us/step - loss: 0.1227 - acc: 0.9506 - val_loss: 0.1957 - val_acc: 0.9297\n",
      "2900/2900 [==============================] - 1s 339us/step\n",
      "\n",
      "loss:0.19404262103140354\n",
      "accuracy:0.9272413793103448\n"
     ]
    },
    {
     "data": {
      "image/png": "[encoded data removed]",
      "text/plain": [
       "<Figure size 432x288 with 1 Axes>"
      ]
     },
     "metadata": {
      "needs_background": "light"
     },
     "output_type": "display_data"
    }
   ],
   "source": [
    "model_go = train_keyword(\"go\", 10, 50)"
   ]
  },
  {
   "cell_type": "code",
   "execution_count": 18,
   "metadata": {},
   "outputs": [
    {
     "name": "stdout",
     "output_type": "stream",
     "text": [
      "['go' 'no' 'stop' 'yes']\n",
      "['stop' 'unkn']\n",
      "mapping:  {'stop': 0, 'unkn': 1}\n",
      "Train on 6604 samples, validate on 2900 samples\n",
      "Epoch 1/10\n",
      "6604/6604 [==============================] - 6s 984us/step - loss: 0.5634 - acc: 0.7449 - val_loss: 0.5279 - val_acc: 0.7541\n",
      "Epoch 2/10\n",
      "6604/6604 [==============================] - 5s 774us/step - loss: 0.3442 - acc: 0.8502 - val_loss: 0.3440 - val_acc: 0.8669\n",
      "Epoch 3/10\n",
      "6604/6604 [==============================] - 5s 773us/step - loss: 0.1386 - acc: 0.9488 - val_loss: 0.2038 - val_acc: 0.9214\n",
      "Epoch 4/10\n",
      "6604/6604 [==============================] - 5s 773us/step - loss: 0.0781 - acc: 0.9729 - val_loss: 0.1319 - val_acc: 0.9572\n",
      "Epoch 5/10\n",
      "6604/6604 [==============================] - 5s 770us/step - loss: 0.0621 - acc: 0.9785 - val_loss: 0.1011 - val_acc: 0.9662\n",
      "Epoch 6/10\n",
      "6604/6604 [==============================] - 5s 776us/step - loss: 0.0569 - acc: 0.9812 - val_loss: 0.0812 - val_acc: 0.9703\n",
      "Epoch 7/10\n",
      "6604/6604 [==============================] - 5s 772us/step - loss: 0.0440 - acc: 0.9855 - val_loss: 0.1150 - val_acc: 0.9652\n",
      "Epoch 8/10\n",
      "6604/6604 [==============================] - 5s 780us/step - loss: 0.0416 - acc: 0.9844 - val_loss: 0.0720 - val_acc: 0.9766\n",
      "Epoch 9/10\n",
      "6604/6604 [==============================] - 5s 777us/step - loss: 0.0327 - acc: 0.9892 - val_loss: 0.0817 - val_acc: 0.9693\n",
      "Epoch 10/10\n",
      "6604/6604 [==============================] - 5s 774us/step - loss: 0.0337 - acc: 0.9862 - val_loss: 0.0631 - val_acc: 0.9800\n",
      "2900/2900 [==============================] - 1s 336us/step\n",
      "\n",
      "loss:0.06386429772728347\n",
      "accuracy:0.9793103448275862\n"
     ]
    },
    {
     "data": {
      "image/png": "[encoded data removed]",
      "text/plain": [
       "<Figure size 432x288 with 1 Axes>"
      ]
     },
     "metadata": {
      "needs_background": "light"
     },
     "output_type": "display_data"
    }
   ],
   "source": [
    "model_stop = train_keyword(\"stop\", 10, 50)"
   ]
  },
  {
   "cell_type": "code",
   "execution_count": 19,
   "metadata": {},
   "outputs": [
    {
     "name": "stdout",
     "output_type": "stream",
     "text": [
      "['go' 'no' 'stop' 'yes']\n",
      "['unkn' 'yes']\n",
      "mapping:  {'unkn': 0, 'yes': 1}\n",
      "Train on 6604 samples, validate on 2900 samples\n",
      "Epoch 1/10\n",
      "6604/6604 [==============================] - 6s 970us/step - loss: 0.5563 - acc: 0.7498 - val_loss: 0.7308 - val_acc: 0.7431\n",
      "Epoch 2/10\n",
      "6604/6604 [==============================] - 5s 791us/step - loss: 0.2783 - acc: 0.8870 - val_loss: 0.4152 - val_acc: 0.8407\n",
      "Epoch 3/10\n",
      "6604/6604 [==============================] - 5s 793us/step - loss: 0.1364 - acc: 0.9500 - val_loss: 0.1468 - val_acc: 0.9524\n",
      "Epoch 4/10\n",
      "6604/6604 [==============================] - 5s 791us/step - loss: 0.0738 - acc: 0.9727 - val_loss: 0.1046 - val_acc: 0.9648\n",
      "Epoch 5/10\n",
      "6604/6604 [==============================] - 5s 799us/step - loss: 0.0652 - acc: 0.9764 - val_loss: 0.1296 - val_acc: 0.9459\n",
      "Epoch 6/10\n",
      "6604/6604 [==============================] - 5s 809us/step - loss: 0.0528 - acc: 0.9818 - val_loss: 0.0710 - val_acc: 0.9703\n",
      "Epoch 7/10\n",
      "6604/6604 [==============================] - 5s 802us/step - loss: 0.0456 - acc: 0.9836 - val_loss: 0.0727 - val_acc: 0.9766\n",
      "Epoch 8/10\n",
      "6604/6604 [==============================] - 5s 792us/step - loss: 0.0431 - acc: 0.9838 - val_loss: 0.0900 - val_acc: 0.9659\n",
      "Epoch 9/10\n",
      "6604/6604 [==============================] - 5s 793us/step - loss: 0.0385 - acc: 0.9864 - val_loss: 0.0867 - val_acc: 0.9703\n",
      "Epoch 10/10\n",
      "6604/6604 [==============================] - 5s 791us/step - loss: 0.0358 - acc: 0.9873 - val_loss: 0.1538 - val_acc: 0.9497\n",
      "2900/2900 [==============================] - 1s 367us/step\n",
      "\n",
      "loss:0.15398963621592726\n",
      "accuracy:0.9482758620689655\n"
     ]
    },
    {
     "data": {
      "image/png": "[encoded data removed]",
      "text/plain": [
       "<Figure size 432x288 with 1 Axes>"
      ]
     },
     "metadata": {
      "needs_background": "light"
     },
     "output_type": "display_data"
    }
   ],
   "source": [
    "model_stop = train_keyword(\"yes\", 10, 50)"
   ]
  },
  {
   "cell_type": "code",
   "execution_count": 20,
   "metadata": {},
   "outputs": [
    {
     "name": "stdout",
     "output_type": "stream",
     "text": [
      "['go' 'no' 'stop' 'yes']\n",
      "['no' 'unkn']\n",
      "mapping:  {'no': 0, 'unkn': 1}\n",
      "Train on 6604 samples, validate on 2900 samples\n",
      "Epoch 1/10\n",
      "6604/6604 [==============================] - 6s 982us/step - loss: 0.5746 - acc: 0.7459 - val_loss: 0.5627 - val_acc: 0.7493\n",
      "Epoch 2/10\n",
      "6604/6604 [==============================] - 5s 787us/step - loss: 0.5441 - acc: 0.7500 - val_loss: 0.5673 - val_acc: 0.7493\n",
      "Epoch 3/10\n",
      "6604/6604 [==============================] - 5s 787us/step - loss: 0.4487 - acc: 0.7553 - val_loss: 0.4514 - val_acc: 0.7572\n",
      "Epoch 4/10\n",
      "6604/6604 [==============================] - 5s 788us/step - loss: 0.3729 - acc: 0.8054 - val_loss: 0.3621 - val_acc: 0.8148\n",
      "Epoch 5/10\n",
      "6604/6604 [==============================] - 5s 790us/step - loss: 0.2751 - acc: 0.8773 - val_loss: 0.2924 - val_acc: 0.8683\n",
      "Epoch 6/10\n",
      "6604/6604 [==============================] - 5s 785us/step - loss: 0.1933 - acc: 0.9213 - val_loss: 0.2329 - val_acc: 0.8972\n",
      "Epoch 7/10\n",
      "6604/6604 [==============================] - 5s 789us/step - loss: 0.1674 - acc: 0.9291 - val_loss: 0.2368 - val_acc: 0.9062\n",
      "Epoch 8/10\n",
      "6604/6604 [==============================] - 5s 786us/step - loss: 0.1297 - acc: 0.9491 - val_loss: 0.2258 - val_acc: 0.9159\n",
      "Epoch 9/10\n",
      "6604/6604 [==============================] - 5s 788us/step - loss: 0.1132 - acc: 0.9550 - val_loss: 0.1694 - val_acc: 0.9297\n",
      "Epoch 10/10\n",
      "6604/6604 [==============================] - 5s 787us/step - loss: 0.1048 - acc: 0.9597 - val_loss: 0.1777 - val_acc: 0.9297\n",
      "2900/2900 [==============================] - 1s 353us/step\n",
      "\n",
      "loss:0.17438681139257448\n",
      "accuracy:0.9327586208540818\n"
     ]
    },
    {
     "data": {
      "image/png": "[encoded data removed]",
      "text/plain": [
       "<Figure size 432x288 with 1 Axes>"
      ]
     },
     "metadata": {
      "needs_background": "light"
     },
     "output_type": "display_data"
    }
   ],
   "source": [
    "model_stop = train_keyword(\"no\", 10, 50)"
   ]
  },
  {
   "cell_type": "code",
   "execution_count": 21,
   "metadata": {},
   "outputs": [
    {
     "name": "stdout",
     "output_type": "stream",
     "text": [
      "esnb_speech_cmd_go.h5  esnb_speech_cmd_stop.h5\r\n",
      "esnb_speech_cmd_no.h5  esnb_speech_cmd_yes.h5\r\n"
     ]
    }
   ],
   "source": [
    "!ls rakshak/models"
   ]
  }
 ],
 "metadata": {
  "kernelspec": {
   "display_name": "Python 3",
   "language": "python",
   "name": "python3"
  },
  "language_info": {
   "codemirror_mode": {
    "name": "ipython",
    "version": 3
   },
   "file_extension": ".py",
   "mimetype": "text/x-python",
   "name": "python",
   "nbconvert_exporter": "python",
   "pygments_lexer": "ipython3",
   "version": "3.8.3"
  }
 },
 "nbformat": 4,
 "nbformat_minor": 1
}
