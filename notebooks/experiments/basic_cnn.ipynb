{
 "cells": [
  {
   "cell_type": "code",
   "execution_count": 1,
   "metadata": {
    "_cell_guid": "b1076dfc-b9ad-4769-8c92-a6c4dae69d19",
    "_uuid": "8f2839f25d086af736a60e9eeb907d3b93b6e0e5"
   },
   "outputs": [
    {
     "name": "stdout",
     "output_type": "stream",
     "text": [
      "['train', 'sample_submission.csv']\n"
     ]
    }
   ],
   "source": [
    "# This Python 3 environment comes with many helpful analytics libraries installed\n",
    "# It is defined by the kaggle/python docker image: https://github.com/kaggle/docker-python\n",
    "# For example, here's several helpful packages to load in \n",
    "\n",
    "import numpy as np # linear algebra\n",
    "import pandas as pd # data processing, CSV file I/O (e.g. pd.read_csv)\n",
    "\n",
    "# Input data files are available in the \"../input/\" directory.\n",
    "# For example, running this (by clicking run or pressing Shift+Enter) will list the files in the input directory\n",
    "\n",
    "import os\n",
    "print(os.listdir(\"../input\"))\n",
    "from os.path import isdir, join\n",
    "import librosa\n",
    "\n",
    "# Any results you write to the current directory are saved as output."
   ]
  },
  {
   "cell_type": "code",
   "execution_count": 2,
   "metadata": {
    "_cell_guid": "79c7e3d0-c299-4dcb-8224-4455121ee9b0",
    "_uuid": "d629ff2d2480ee46fbb7e2d37f6b5fab8052498a"
   },
   "outputs": [
    {
     "name": "stdout",
     "output_type": "stream",
     "text": [
      "['no', 'seven', 'right', 'up', 'down', 'eight', 'six', 'wow', 'bird', 'tree', 'happy', 'three', 'five', 'zero', 'go', 'left', 'nine', 'two', 'four', 'yes', 'bed', 'stop', '_background_noise_', 'cat', 'dog', 'marvin', 'off', 'one', 'on', 'sheila', 'house']\n"
     ]
    }
   ],
   "source": [
    "audio_path = \"../input/train/audio\"\n",
    "print(os.listdir(audio_path))"
   ]
  },
  {
   "cell_type": "code",
   "execution_count": 3,
   "metadata": {},
   "outputs": [],
   "source": [
    "# all audio dirs\n",
    "dirs = [f for f in os.listdir(audio_path) if os.path.isdir(join(audio_path, f))]\n",
    "dirs.sort()"
   ]
  },
  {
   "cell_type": "code",
   "execution_count": 4,
   "metadata": {},
   "outputs": [],
   "source": [
    "# import matplotlib.pyplot as plt\n",
    "# plt.figure(figsize=(10, 4))\n",
    "# librosa.display.specshow(mfcc, x_axis='time')\n",
    "# plt.colorbar()\n",
    "# plt.title('MFCC')\n",
    "# plt.tight_layout()"
   ]
  },
  {
   "cell_type": "code",
   "execution_count": 5,
   "metadata": {},
   "outputs": [],
   "source": [
    "import librosa.display"
   ]
  },
  {
   "cell_type": "code",
   "execution_count": null,
   "metadata": {},
   "outputs": [],
   "source": [
    "# import matplotlib.pyplot as plt\n",
    "# plt.figure(figsize=(10, 4))\n",
    "# librosa.display.specshow(mfcc, x_axis='time')\n",
    "# plt.colorbar()\n",
    "# plt.title('MFCC')\n",
    "# plt.tight_layout()"
   ]
  },
  {
   "cell_type": "code",
   "execution_count": null,
   "metadata": {},
   "outputs": [],
   "source": []
  },
  {
   "cell_type": "code",
   "execution_count": 6,
   "metadata": {},
   "outputs": [],
   "source": [
    "import os\n",
    "import librosa\n",
    "import numpy as np\n",
    "class AudioFeatureDataset():\n",
    "    def __init__(self,file_path):\n",
    "        self.file_path = file_path\n",
    "        self.labels = os.listdir(self.file_path)\n",
    "        self.target_labels = ['no', 'seven', 'right', 'up', 'down', 'eight', 'six', 'wow', 'bird', 'tree', 'happy', 'three', 'five', 'zero', 'go', 'left', 'nine', 'two', 'four', 'yes', 'bed', 'stop', 'cat', 'dog', 'marvin', 'off', 'one', 'on', 'sheila', 'house']\n",
    "        self.data_dict = {}\n",
    "        for tl in self.target_labels:\n",
    "            files_dir = os.path.join(file_path,tl)\n",
    "            all_audio_fp_s =[ os.path.join(files_dir,f) for f in os.listdir(files_dir)]\n",
    "            self.data_dict[tl] = all_audio_fp_s\n",
    "    \n",
    "    def process(self,file,max_pad = 35):\n",
    "        samps,sr = librosa.load(file, mono=True, sr=None)\n",
    "        mfcc = librosa.feature.mfcc(samps, sr = sr)\n",
    "        pad_width = max_pad - mfcc.shape[1]\n",
    "        mfcc = np.pad(mfcc, pad_width=((0, 0), (0, pad_width)), mode='constant')\n",
    "        return mfcc\n",
    "    def get_dataset(self):\n",
    "        labels =  []\n",
    "        features = []\n",
    "        for t in self.target_labels:\n",
    "            for fp in self.data_dict[t]:\n",
    "                labels.append(t)\n",
    "                features.append(self.process(fp))\n",
    "        return labels, features"
   ]
  },
  {
   "cell_type": "code",
   "execution_count": 7,
   "metadata": {},
   "outputs": [],
   "source": [
    "a = AudioFeatureDataset(audio_path)"
   ]
  },
  {
   "cell_type": "code",
   "execution_count": 24,
   "metadata": {},
   "outputs": [],
   "source": [
    "Y,x = a.get_dataset()"
   ]
  },
  {
   "cell_type": "code",
   "execution_count": 25,
   "metadata": {},
   "outputs": [],
   "source": [
    "x = np.array(x)\n",
    "Y = np.array(Y)"
   ]
  },
  {
   "cell_type": "code",
   "execution_count": null,
   "metadata": {},
   "outputs": [],
   "source": []
  },
  {
   "cell_type": "code",
   "execution_count": 26,
   "metadata": {},
   "outputs": [],
   "source": [
    "from sklearn.model_selection import train_test_split\n",
    "\n",
    "def get_train_test(split_ratio=0.6, random_state=42):\n",
    "    return train_test_split(librosa.util.normalize(x), Y, test_size= (1 - split_ratio), random_state=random_state, shuffle=True)"
   ]
  },
  {
   "cell_type": "code",
   "execution_count": 27,
   "metadata": {},
   "outputs": [],
   "source": [
    "X_train, X_test, y_train, y_test = get_train_test()"
   ]
  },
  {
   "cell_type": "code",
   "execution_count": null,
   "metadata": {},
   "outputs": [],
   "source": []
  },
  {
   "cell_type": "code",
   "execution_count": 28,
   "metadata": {},
   "outputs": [
    {
     "data": {
      "image/png": "[encoded data removed]",
      "text/plain": [
       "<Figure size 720x288 with 2 Axes>"
      ]
     },
     "metadata": {},
     "output_type": "display_data"
    }
   ],
   "source": [
    "import matplotlib.pyplot as plt\n",
    "plt.figure(figsize=(10, 4))\n",
    "librosa.display.specshow(X_train[3], x_axis='time')\n",
    "plt.colorbar()\n",
    "plt.title('MFCC')\n",
    "plt.tight_layout()"
   ]
  },
  {
   "cell_type": "code",
   "execution_count": 29,
   "metadata": {},
   "outputs": [],
   "source": [
    "from keras.utils.np_utils import to_categorical"
   ]
  },
  {
   "cell_type": "code",
   "execution_count": 30,
   "metadata": {},
   "outputs": [],
   "source": [
    "\n",
    "X_train = X_train.reshape(X_train.shape[0], 20, 35, 1)"
   ]
  },
  {
   "cell_type": "code",
   "execution_count": 31,
   "metadata": {},
   "outputs": [],
   "source": [
    "from sklearn.preprocessing import LabelEncoder\n",
    "labelencoder = LabelEncoder()"
   ]
  },
  {
   "cell_type": "code",
   "execution_count": 32,
   "metadata": {},
   "outputs": [
    {
     "data": {
      "text/plain": [
       "array([ 3, 14, 25, ..., 25, 21,  6])"
      ]
     },
     "execution_count": 32,
     "metadata": {},
     "output_type": "execute_result"
    }
   ],
   "source": [
    "labelencoder.fit_transform(y_test)"
   ]
  },
  {
   "cell_type": "code",
   "execution_count": 33,
   "metadata": {},
   "outputs": [],
   "source": [
    "mapping = dict(zip(labelencoder.classes_, range(len(labelencoder.classes_))))"
   ]
  },
  {
   "cell_type": "code",
   "execution_count": 34,
   "metadata": {},
   "outputs": [
    {
     "data": {
      "text/plain": [
       "{'bed': 0,\n",
       " 'bird': 1,\n",
       " 'cat': 2,\n",
       " 'dog': 3,\n",
       " 'down': 4,\n",
       " 'eight': 5,\n",
       " 'five': 6,\n",
       " 'four': 7,\n",
       " 'go': 8,\n",
       " 'happy': 9,\n",
       " 'house': 10,\n",
       " 'left': 11,\n",
       " 'marvin': 12,\n",
       " 'nine': 13,\n",
       " 'no': 14,\n",
       " 'off': 15,\n",
       " 'on': 16,\n",
       " 'one': 17,\n",
       " 'right': 18,\n",
       " 'seven': 19,\n",
       " 'sheila': 20,\n",
       " 'six': 21,\n",
       " 'stop': 22,\n",
       " 'three': 23,\n",
       " 'tree': 24,\n",
       " 'two': 25,\n",
       " 'up': 26,\n",
       " 'wow': 27,\n",
       " 'yes': 28,\n",
       " 'zero': 29}"
      ]
     },
     "execution_count": 34,
     "metadata": {},
     "output_type": "execute_result"
    }
   ],
   "source": [
    "mapping"
   ]
  },
  {
   "cell_type": "code",
   "execution_count": 35,
   "metadata": {},
   "outputs": [],
   "source": [
    "y_test = labelencoder.fit_transform(y_test)\n",
    "mapping = dict(zip(labelencoder.classes_, range(len(labelencoder.classes_))))"
   ]
  },
  {
   "cell_type": "code",
   "execution_count": 36,
   "metadata": {},
   "outputs": [
    {
     "data": {
      "text/plain": [
       "{'bed': 0,\n",
       " 'bird': 1,\n",
       " 'cat': 2,\n",
       " 'dog': 3,\n",
       " 'down': 4,\n",
       " 'eight': 5,\n",
       " 'five': 6,\n",
       " 'four': 7,\n",
       " 'go': 8,\n",
       " 'happy': 9,\n",
       " 'house': 10,\n",
       " 'left': 11,\n",
       " 'marvin': 12,\n",
       " 'nine': 13,\n",
       " 'no': 14,\n",
       " 'off': 15,\n",
       " 'on': 16,\n",
       " 'one': 17,\n",
       " 'right': 18,\n",
       " 'seven': 19,\n",
       " 'sheila': 20,\n",
       " 'six': 21,\n",
       " 'stop': 22,\n",
       " 'three': 23,\n",
       " 'tree': 24,\n",
       " 'two': 25,\n",
       " 'up': 26,\n",
       " 'wow': 27,\n",
       " 'yes': 28,\n",
       " 'zero': 29}"
      ]
     },
     "execution_count": 36,
     "metadata": {},
     "output_type": "execute_result"
    }
   ],
   "source": [
    "mapping"
   ]
  },
  {
   "cell_type": "code",
   "execution_count": 37,
   "metadata": {},
   "outputs": [
    {
     "data": {
      "text/plain": [
       "array([ 3, 14, 25, ..., 25, 21,  6])"
      ]
     },
     "execution_count": 37,
     "metadata": {},
     "output_type": "execute_result"
    }
   ],
   "source": [
    "y_test"
   ]
  },
  {
   "cell_type": "code",
   "execution_count": 38,
   "metadata": {},
   "outputs": [],
   "source": [
    "y_train = labelencoder.fit_transform(y_train)\n",
    "mapping = dict(zip(labelencoder.classes_, range(len(labelencoder.classes_))))"
   ]
  },
  {
   "cell_type": "code",
   "execution_count": null,
   "metadata": {},
   "outputs": [],
   "source": [
    "mapping"
   ]
  },
  {
   "cell_type": "code",
   "execution_count": 39,
   "metadata": {},
   "outputs": [],
   "source": [
    "import keras\n",
    "from keras.models import Sequential\n",
    "from keras.layers import Dense, Dropout, Flatten, Conv2D, MaxPooling2D"
   ]
  },
  {
   "cell_type": "code",
   "execution_count": null,
   "metadata": {},
   "outputs": [],
   "source": []
  },
  {
   "cell_type": "code",
   "execution_count": 40,
   "metadata": {},
   "outputs": [],
   "source": [
    "y_test = to_categorical(y_test)\n",
    "y_train = to_categorical(y_train)"
   ]
  },
  {
   "cell_type": "code",
   "execution_count": 41,
   "metadata": {},
   "outputs": [
    {
     "data": {
      "text/plain": [
       "(25889, 20, 35)"
      ]
     },
     "execution_count": 41,
     "metadata": {},
     "output_type": "execute_result"
    }
   ],
   "source": [
    "X_test.shape"
   ]
  },
  {
   "cell_type": "code",
   "execution_count": 42,
   "metadata": {},
   "outputs": [],
   "source": [
    "\n",
    "X_test = X_test.reshape(X_test.shape[0], 20, 35, 1)"
   ]
  },
  {
   "cell_type": "code",
   "execution_count": 43,
   "metadata": {},
   "outputs": [
    {
     "data": {
      "text/plain": [
       "(25889, 20, 35, 1)"
      ]
     },
     "execution_count": 43,
     "metadata": {},
     "output_type": "execute_result"
    }
   ],
   "source": [
    "X_test.shape"
   ]
  },
  {
   "cell_type": "code",
   "execution_count": 44,
   "metadata": {},
   "outputs": [],
   "source": [
    "from optimizers.AdamW import AdamW"
   ]
  },
  {
   "cell_type": "code",
   "execution_count": 46,
   "metadata": {},
   "outputs": [
    {
     "name": "stderr",
     "output_type": "stream",
     "text": [
      "/opt/conda/lib/python3.6/site-packages/ipykernel_launcher.py:3: UserWarning: Update your `MaxPooling2D` call to the Keras 2 API: `MaxPooling2D(pool_size=(2, 2), data_format=\"channels_first\")`\n",
      "  This is separate from the ipykernel package so we can avoid doing imports until\n",
      "/opt/conda/lib/python3.6/site-packages/ipykernel_launcher.py:5: UserWarning: Update your `Conv2D` call to the Keras 2 API: `Conv2D(64, kernel_size=(10, 4), activation=\"relu\", data_format=\"channels_first\")`\n",
      "  \"\"\"\n",
      "/opt/conda/lib/python3.6/site-packages/ipykernel_launcher.py:6: UserWarning: Update your `MaxPooling2D` call to the Keras 2 API: `MaxPooling2D(pool_size=(2, 2), data_format=\"channels_first\")`\n",
      "  \n"
     ]
    }
   ],
   "source": [
    "model = Sequential()\n",
    "model.add(Conv2D(64, kernel_size=(20, 8), activation='relu', input_shape=(20, 35, 1)))\n",
    "model.add(MaxPooling2D(pool_size=(2, 2),dim_ordering=\"th\"))\n",
    "model.add(Dropout(0.25))\n",
    "model.add(Conv2D(64, kernel_size=(10, 4), activation='relu',dim_ordering=\"th\"))\n",
    "model.add(MaxPooling2D(pool_size=(2, 2),dim_ordering=\"th\"))\n",
    "model.add(Dropout(0.25))\n",
    "model.add(Flatten())\n",
    "model.add(Dense(128, activation='relu'))\n",
    "model.add(Dropout(0.25))\n",
    "model.add(Dense(30, activation='softmax'))\n",
    "model.compile(loss=keras.losses.categorical_crossentropy,\n",
    "              optimizer=keras.optimizers.adam(),metrics=['accuracy'])"
   ]
  },
  {
   "cell_type": "code",
   "execution_count": 49,
   "metadata": {},
   "outputs": [
    {
     "name": "stdout",
     "output_type": "stream",
     "text": [
      "Train on 37832 samples, validate on 25889 samples\n",
      "Epoch 1/50\n",
      "37832/37832 [==============================] - 18s 483us/step - loss: 1.3368 - acc: 0.5922 - val_loss: 0.8635 - val_acc: 0.7608\n",
      "Epoch 2/50\n",
      "37832/37832 [==============================] - 18s 478us/step - loss: 0.9520 - acc: 0.7133 - val_loss: 0.7140 - val_acc: 0.8023\n",
      "Epoch 3/50\n",
      "37832/37832 [==============================] - 18s 481us/step - loss: 0.7901 - acc: 0.7615 - val_loss: 0.6204 - val_acc: 0.8286\n",
      "Epoch 4/50\n",
      "37832/37832 [==============================] - 18s 480us/step - loss: 0.7033 - acc: 0.7836 - val_loss: 0.5740 - val_acc: 0.8423\n",
      "Epoch 5/50\n",
      "37832/37832 [==============================] - 18s 483us/step - loss: 0.6438 - acc: 0.8045 - val_loss: 0.5437 - val_acc: 0.8510\n",
      "Epoch 6/50\n",
      "37832/37832 [==============================] - 18s 480us/step - loss: 0.6061 - acc: 0.8148 - val_loss: 0.5074 - val_acc: 0.8579\n",
      "Epoch 7/50\n",
      "37832/37832 [==============================] - 18s 481us/step - loss: 0.5771 - acc: 0.8235 - val_loss: 0.4888 - val_acc: 0.8638\n",
      "Epoch 8/50\n",
      "37832/37832 [==============================] - 18s 483us/step - loss: 0.5445 - acc: 0.8335 - val_loss: 0.4617 - val_acc: 0.8694\n",
      "Epoch 9/50\n",
      "37832/37832 [==============================] - 18s 480us/step - loss: 0.5277 - acc: 0.8378 - val_loss: 0.4606 - val_acc: 0.8699\n",
      "Epoch 10/50\n",
      "37832/37832 [==============================] - 18s 480us/step - loss: 0.5111 - acc: 0.8417 - val_loss: 0.4381 - val_acc: 0.8779\n",
      "Epoch 11/50\n",
      "37832/37832 [==============================] - 18s 483us/step - loss: 0.4927 - acc: 0.8511 - val_loss: 0.4278 - val_acc: 0.8823\n",
      "Epoch 12/50\n",
      "37832/37832 [==============================] - 18s 478us/step - loss: 0.4754 - acc: 0.8528 - val_loss: 0.4236 - val_acc: 0.8793\n",
      "Epoch 13/50\n",
      "37832/37832 [==============================] - 18s 483us/step - loss: 0.4588 - acc: 0.8583 - val_loss: 0.4036 - val_acc: 0.8853\n",
      "Epoch 14/50\n",
      "37832/37832 [==============================] - 18s 480us/step - loss: 0.4545 - acc: 0.8594 - val_loss: 0.4002 - val_acc: 0.8850\n",
      "Epoch 15/50\n",
      "37832/37832 [==============================] - 18s 481us/step - loss: 0.4449 - acc: 0.8621 - val_loss: 0.3962 - val_acc: 0.8885\n",
      "Epoch 16/50\n",
      "37832/37832 [==============================] - 18s 480us/step - loss: 0.4400 - acc: 0.8626 - val_loss: 0.3984 - val_acc: 0.8869\n",
      "Epoch 17/50\n",
      "37832/37832 [==============================] - 19s 491us/step - loss: 0.4247 - acc: 0.8699 - val_loss: 0.4012 - val_acc: 0.8871\n",
      "Epoch 18/50\n",
      "37832/37832 [==============================] - 18s 487us/step - loss: 0.4238 - acc: 0.8692 - val_loss: 0.3915 - val_acc: 0.8879\n",
      "Epoch 19/50\n",
      "37832/37832 [==============================] - 18s 481us/step - loss: 0.4178 - acc: 0.8712 - val_loss: 0.3900 - val_acc: 0.8867\n",
      "Epoch 20/50\n",
      "37832/37832 [==============================] - 18s 480us/step - loss: 0.4010 - acc: 0.8767 - val_loss: 0.3750 - val_acc: 0.8913\n",
      "Epoch 21/50\n",
      "37832/37832 [==============================] - 18s 481us/step - loss: 0.4011 - acc: 0.8757 - val_loss: 0.3784 - val_acc: 0.8928\n",
      "Epoch 22/50\n",
      "37832/37832 [==============================] - 18s 482us/step - loss: 0.3938 - acc: 0.8787 - val_loss: 0.3734 - val_acc: 0.8878\n",
      "Epoch 23/50\n",
      "37832/37832 [==============================] - 18s 487us/step - loss: 0.3898 - acc: 0.8793 - val_loss: 0.3713 - val_acc: 0.8937\n",
      "Epoch 24/50\n",
      "37832/37832 [==============================] - 19s 490us/step - loss: 0.3767 - acc: 0.8839 - val_loss: 0.3614 - val_acc: 0.8954\n",
      "Epoch 25/50\n",
      "37832/37832 [==============================] - 19s 491us/step - loss: 0.3746 - acc: 0.8840 - val_loss: 0.3693 - val_acc: 0.8927\n",
      "Epoch 26/50\n",
      "37832/37832 [==============================] - 18s 486us/step - loss: 0.3712 - acc: 0.8850 - val_loss: 0.3581 - val_acc: 0.8967\n",
      "Epoch 27/50\n",
      "37832/37832 [==============================] - 18s 485us/step - loss: 0.3695 - acc: 0.8852 - val_loss: 0.3654 - val_acc: 0.8954\n",
      "Epoch 28/50\n",
      "37832/37832 [==============================] - 19s 489us/step - loss: 0.3644 - acc: 0.8857 - val_loss: 0.3600 - val_acc: 0.8940\n",
      "Epoch 29/50\n",
      "37832/37832 [==============================] - 18s 481us/step - loss: 0.3606 - acc: 0.8867 - val_loss: 0.3562 - val_acc: 0.8979\n",
      "Epoch 30/50\n",
      "37832/37832 [==============================] - 18s 485us/step - loss: 0.3588 - acc: 0.8871 - val_loss: 0.3647 - val_acc: 0.8969\n",
      "Epoch 31/50\n",
      "37832/37832 [==============================] - 18s 484us/step - loss: 0.3471 - acc: 0.8916 - val_loss: 0.3566 - val_acc: 0.8978\n",
      "Epoch 32/50\n",
      "37832/37832 [==============================] - 18s 480us/step - loss: 0.3471 - acc: 0.8916 - val_loss: 0.3595 - val_acc: 0.8954\n",
      "Epoch 33/50\n",
      "37832/37832 [==============================] - 18s 486us/step - loss: 0.3484 - acc: 0.8912 - val_loss: 0.3544 - val_acc: 0.8981\n",
      "Epoch 34/50\n",
      "37832/37832 [==============================] - 19s 496us/step - loss: 0.3410 - acc: 0.8928 - val_loss: 0.3511 - val_acc: 0.8979\n",
      "Epoch 35/50\n",
      "37832/37832 [==============================] - 19s 489us/step - loss: 0.3388 - acc: 0.8935 - val_loss: 0.3514 - val_acc: 0.8966\n",
      "Epoch 36/50\n",
      "37832/37832 [==============================] - 18s 486us/step - loss: 0.3291 - acc: 0.8969 - val_loss: 0.3567 - val_acc: 0.8959\n",
      "Epoch 37/50\n",
      "37832/37832 [==============================] - 18s 487us/step - loss: 0.3288 - acc: 0.8965 - val_loss: 0.3478 - val_acc: 0.8988\n",
      "Epoch 38/50\n",
      "37832/37832 [==============================] - 18s 484us/step - loss: 0.3254 - acc: 0.8967 - val_loss: 0.3486 - val_acc: 0.8987\n",
      "Epoch 39/50\n",
      "37832/37832 [==============================] - 18s 486us/step - loss: 0.3256 - acc: 0.8959 - val_loss: 0.3463 - val_acc: 0.8998\n",
      "Epoch 40/50\n",
      "37832/37832 [==============================] - 18s 486us/step - loss: 0.3313 - acc: 0.8949 - val_loss: 0.3460 - val_acc: 0.9007\n",
      "Epoch 41/50\n",
      "37832/37832 [==============================] - 19s 490us/step - loss: 0.3177 - acc: 0.8999 - val_loss: 0.3375 - val_acc: 0.8985\n",
      "Epoch 42/50\n",
      "37832/37832 [==============================] - 18s 485us/step - loss: 0.3164 - acc: 0.8990 - val_loss: 0.3484 - val_acc: 0.8971\n",
      "Epoch 43/50\n",
      "37832/37832 [==============================] - 18s 486us/step - loss: 0.3186 - acc: 0.8996 - val_loss: 0.3440 - val_acc: 0.8975\n",
      "Epoch 44/50\n",
      "37832/37832 [==============================] - 18s 489us/step - loss: 0.3097 - acc: 0.9018 - val_loss: 0.3431 - val_acc: 0.8989\n",
      "Epoch 45/50\n",
      "37832/37832 [==============================] - 18s 481us/step - loss: 0.3125 - acc: 0.8997 - val_loss: 0.3399 - val_acc: 0.8996\n",
      "Epoch 46/50\n",
      "37832/37832 [==============================] - 18s 485us/step - loss: 0.3091 - acc: 0.9009 - val_loss: 0.3402 - val_acc: 0.9013\n",
      "Epoch 47/50\n",
      "37832/37832 [==============================] - 18s 484us/step - loss: 0.3102 - acc: 0.9024 - val_loss: 0.3401 - val_acc: 0.9010\n",
      "Epoch 48/50\n",
      "37832/37832 [==============================] - 18s 481us/step - loss: 0.3093 - acc: 0.9020 - val_loss: 0.3417 - val_acc: 0.8982\n",
      "Epoch 49/50\n",
      "37832/37832 [==============================] - 18s 483us/step - loss: 0.3064 - acc: 0.9030 - val_loss: 0.3367 - val_acc: 0.9016\n",
      "Epoch 50/50\n",
      "37832/37832 [==============================] - 18s 485us/step - loss: 0.3034 - acc: 0.9032 - val_loss: 0.3346 - val_acc: 0.9019\n"
     ]
    },
    {
     "data": {
      "text/plain": [
       "<keras.callbacks.History at 0x7f5429a08780>"
      ]
     },
     "execution_count": 49,
     "metadata": {},
     "output_type": "execute_result"
    }
   ],
   "source": [
    "model.fit(X_train[1000:], y_train[1000:], batch_size=100, epochs=50, verbose=1, validation_data=(X_test, y_test))"
   ]
  },
  {
   "cell_type": "code",
   "execution_count": 51,
   "metadata": {},
   "outputs": [
    {
     "name": "stdout",
     "output_type": "stream",
     "text": [
      "903\n",
      "CPU times: user 2.29 s, sys: 980 ms, total: 3.27 s\n",
      "Wall time: 1.84 s\n"
     ]
    }
   ],
   "source": [
    "%%time\n",
    "count = 0\n",
    "for i in range(1000):    \n",
    "    tesval = np.array([X_train[i]]).reshape(1,20,35,1)\n",
    "    if np.argmax(model.predict(tesval)) ==  np.argmax(y_train[i]):\n",
    "        count+= 1\n",
    "print(count)"
   ]
  },
  {
   "cell_type": "code",
   "execution_count": 52,
   "metadata": {},
   "outputs": [
    {
     "data": {
      "text/plain": [
       "(1, 20, 35, 1)"
      ]
     },
     "execution_count": 52,
     "metadata": {},
     "output_type": "execute_result"
    }
   ],
   "source": [
    "tesval.shape"
   ]
  },
  {
   "cell_type": "code",
   "execution_count": 53,
   "metadata": {},
   "outputs": [
    {
     "data": {
      "text/plain": [
       "6"
      ]
     },
     "execution_count": 53,
     "metadata": {},
     "output_type": "execute_result"
    }
   ],
   "source": [
    "np.argmax(model.predict(tesval))"
   ]
  },
  {
   "cell_type": "code",
   "execution_count": 56,
   "metadata": {},
   "outputs": [
    {
     "data": {
      "text/plain": [
       "(1, 20, 35, 1)"
      ]
     },
     "execution_count": 56,
     "metadata": {},
     "output_type": "execute_result"
    }
   ],
   "source": [
    "tesval.shape"
   ]
  },
  {
   "cell_type": "code",
   "execution_count": 60,
   "metadata": {},
   "outputs": [],
   "source": [
    "model.save_weights('result.h5')"
   ]
  },
  {
   "cell_type": "code",
   "execution_count": 59,
   "metadata": {},
   "outputs": [
    {
     "data": {
      "text/plain": [
       "['input', 'config', 'working', 'lib']"
      ]
     },
     "execution_count": 59,
     "metadata": {},
     "output_type": "execute_result"
    }
   ],
   "source": []
  },
  {
   "cell_type": "code",
   "execution_count": null,
   "metadata": {},
   "outputs": [],
   "source": []
  }
 ],
 "metadata": {
  "kernelspec": {
   "display_name": "Python 3",
   "language": "python",
   "name": "python3"
  },
  "language_info": {
   "codemirror_mode": {
    "name": "ipython",
    "version": 3
   },
   "file_extension": ".py",
   "mimetype": "text/x-python",
   "name": "python",
   "nbconvert_exporter": "python",
   "pygments_lexer": "ipython3",
   "version": "3.6.7"
  }
 },
 "nbformat": 4,
 "nbformat_minor": 1
}
