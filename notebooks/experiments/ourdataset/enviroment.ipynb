{
 "cells": [
  {
   "cell_type": "code",
   "execution_count": 1,
   "metadata": {
    "_cell_guid": "b1076dfc-b9ad-4769-8c92-a6c4dae69d19",
    "_uuid": "8f2839f25d086af736a60e9eeb907d3b93b6e0e5"
   },
   "outputs": [
    {
     "name": "stdout",
     "output_type": "stream",
     "text": [
      "[]\n"
     ]
    }
   ],
   "source": [
    "# This Python 3 environment comes with many helpful analytics libraries installed\n",
    "# It is defined by the kaggle/python docker image: https://github.com/kaggle/docker-python\n",
    "# For example, here's several helpful packages to load in \n",
    "\n",
    "import numpy as np # linear algebra\n",
    "import pandas as pd # data processing, CSV file I/O (e.g. pd.read_csv)\n",
    "\n",
    "# Input data files are available in the \"../input/\" directory.\n",
    "# For example, running this (by clicking run or pressing Shift+Enter) will list the files in the input directory\n",
    "\n",
    "import os\n",
    "print(os.listdir(\"../input\"))\n",
    "import librosa\n",
    "import random\n",
    "\n",
    "# Any results you write to the current directory are saved as output.\n"
   ]
  },
  {
   "cell_type": "code",
   "execution_count": 2,
   "metadata": {},
   "outputs": [],
   "source": [
    "def roll(data):\n",
    "    data_roll = np.roll(data, 5000)\n",
    "    return data_roll\n",
    "def stretch(data, rate=2):\n",
    "    input_length = 16000*3\n",
    "    data = librosa.effects.time_stretch(data, rate)\n",
    "    if len(data)>input_length:\n",
    "        data = data[:input_length]\n",
    "    else:\n",
    "        data = np.pad(data, (0, max(0, input_length - len(data))), \"constant\")\n",
    "\n",
    "    return data\n",
    "\n",
    "def wnoise(data):\n",
    "    wn = np.random.randn(len(data))\n",
    "    data_wn = data + 0.005*wn\n",
    "    return data_wn"
   ]
  },
  {
   "cell_type": "code",
   "execution_count": 3,
   "metadata": {
    "_cell_guid": "79c7e3d0-c299-4dcb-8224-4455121ee9b0",
    "_uuid": "d629ff2d2480ee46fbb7e2d37f6b5fab8052498a"
   },
   "outputs": [
    {
     "name": "stdout",
     "output_type": "stream",
     "text": [
      "Cloning into 'dataset'...\r\n",
      "remote: Enumerating objects: 1509, done.\u001b[K\r\n",
      "remote: Total 1509 (delta 0), reused 0 (delta 0), pack-reused 1509\u001b[K\r\n",
      "Receiving objects: 100% (1509/1509), 105.42 MiB | 24.75 MiB/s, done.\r\n",
      "Resolving deltas: 100% (41/41), done.\r\n"
     ]
    }
   ],
   "source": [
    "# put dataset in folder named dataset"
   ]
  },
  {
   "cell_type": "code",
   "execution_count": 4,
   "metadata": {},
   "outputs": [],
   "source": [
    "import os\n",
    "\n",
    "def get_all_files(datapath, dataset_type=\"keyword\"):\n",
    "    data_dir = datapath\n",
    "    data = []\n",
    "    all_files = os.listdir(data_dir)\n",
    "    all_files.remove('.DS_Store')\n",
    "    labels = set()\n",
    "    for file in all_files:\n",
    "        filelabels = file.split(\"-\")[:3]\n",
    "        data_dict = {\n",
    "            \"filepath\": data_dir + file,\n",
    "            \"stress\": filelabels[2],\n",
    "            \"environment\": filelabels[1],\n",
    "            \"keyword\":filelabels[0]\n",
    "        }\n",
    "        labels.add(data_dict[dataset_type])\n",
    "        data.append(data_dict)\n",
    "\n",
    "    return data,labels"
   ]
  },
  {
   "cell_type": "code",
   "execution_count": 5,
   "metadata": {},
   "outputs": [],
   "source": [
    "import os\n",
    "import librosa\n",
    "import numpy as np\n",
    "from tqdm import tqdm\n",
    "\n",
    "class AudioFeatureDataset():\n",
    "\n",
    "    ''' To create audio dataset\n",
    "        @param dataset_type = ( keyword | stress | environment   )\n",
    "    '''\n",
    "\n",
    "    def __init__(self,datapath, samplingrate=16000, dt=\"keyword\"):\n",
    "        print(dt)\n",
    "        datafiles, labels = get_all_files(datapath,dataset_type=dt)\n",
    "        self.datafiles = datafiles\n",
    "        self.samplingrate = samplingrate\n",
    "        self.target_labels = list(labels)\n",
    "        self.dataset_type = dt\n",
    "\n",
    "    def process(self, file, max_len=16000):\n",
    "        ''' extracts raw audio  and returns samps '''\n",
    "        try:\n",
    "            samps, sr = librosa.load(file, mono=True, sr=None)\n",
    "            pad_len = max_len - samps.shape[0]\n",
    "            if pad_len >= 0:\n",
    "                samps = np.pad(samps, (0, pad_len), 'constant')\n",
    "            return np.array(samps[:max_len])\n",
    "        except:\n",
    "            print(file)\n",
    "\n",
    "    def get_dataset(self, include_background=False):\n",
    "        labels = []\n",
    "        features = []\n",
    "        for file_data in tqdm(self.datafiles):\n",
    "            labels.append(file_data[self.dataset_type])\n",
    "            samps = self.process(file_data[\"filepath\"], self.samplingrate * 3)\n",
    "            features.append(samps)\n",
    "            # with roll\n",
    "            labels.append(file_data[self.dataset_type])\n",
    "            features.append(roll(samps)) \n",
    "            # with strech\n",
    "            labels.append(file_data[self.dataset_type])\n",
    "            features.append(stretch(samps)) \n",
    "            # white noise\n",
    "            labels.append(file_data[self.dataset_type])\n",
    "            features.append(wnoise(samps)) \n",
    "        labels = np.array(labels)\n",
    "        features = np.array(features)\n",
    "        return features, labels\n"
   ]
  },
  {
   "cell_type": "code",
   "execution_count": 6,
   "metadata": {},
   "outputs": [
    {
     "name": "stdout",
     "output_type": "stream",
     "text": [
      "environment\n"
     ]
    }
   ],
   "source": [
    "a = AudioFeatureDataset(datapath=\"dataset/data/\",dt=\"environment\")"
   ]
  },
  {
   "cell_type": "code",
   "execution_count": 7,
   "metadata": {},
   "outputs": [
    {
     "name": "stderr",
     "output_type": "stream",
     "text": [
      "100%|██████████| 1444/1444 [03:15<00:00,  4.16it/s]\n"
     ]
    }
   ],
   "source": [
    "features,labels = a.get_dataset()"
   ]
  },
  {
   "cell_type": "code",
   "execution_count": 8,
   "metadata": {},
   "outputs": [],
   "source": [
    "x = np.array(features)\n",
    "Y = np.array(labels)"
   ]
  },
  {
   "cell_type": "code",
   "execution_count": 9,
   "metadata": {},
   "outputs": [],
   "source": [
    "from sklearn.utils import class_weight\n",
    "class_weights = class_weight.compute_class_weight('balanced',np.unique(Y),Y)"
   ]
  },
  {
   "cell_type": "code",
   "execution_count": 10,
   "metadata": {},
   "outputs": [
    {
     "data": {
      "text/plain": [
       "(5776, 48000)"
      ]
     },
     "execution_count": 10,
     "metadata": {},
     "output_type": "execute_result"
    }
   ],
   "source": [
    "x.shape"
   ]
  },
  {
   "cell_type": "code",
   "execution_count": 11,
   "metadata": {},
   "outputs": [],
   "source": [
    "x = x.reshape(x.shape[0], 1, 16000 * 3)"
   ]
  },
  {
   "cell_type": "code",
   "execution_count": 12,
   "metadata": {},
   "outputs": [
    {
     "name": "stdout",
     "output_type": "stream",
     "text": [
      "safe         4948\n",
      "dangerous     828\n",
      "dtype: int64\n"
     ]
    }
   ],
   "source": [
    "df = pd.Series(Y)\n",
    "target_count = df.value_counts()\n",
    "print(target_count)"
   ]
  },
  {
   "cell_type": "code",
   "execution_count": 13,
   "metadata": {},
   "outputs": [
    {
     "name": "stderr",
     "output_type": "stream",
     "text": [
      "Using TensorFlow backend.\n"
     ]
    }
   ],
   "source": [
    "from keras.utils.np_utils import to_categorical\n",
    "from sklearn.preprocessing import LabelEncoder\n",
    "\n",
    "\n",
    "labelencoder = LabelEncoder()\n",
    "Y = labelencoder.fit_transform(Y)"
   ]
  },
  {
   "cell_type": "code",
   "execution_count": 14,
   "metadata": {},
   "outputs": [],
   "source": [
    "from sklearn.model_selection import train_test_split\n",
    "\n",
    "def get_train_test(split_ratio=0.7, random_state=42):\n",
    "    return train_test_split(x, Y, test_size= (1 - split_ratio), random_state=random_state, shuffle=True)"
   ]
  },
  {
   "cell_type": "code",
   "execution_count": 15,
   "metadata": {},
   "outputs": [],
   "source": [
    "X_train, X_test, y_train, y_test = get_train_test()\n"
   ]
  },
  {
   "cell_type": "code",
   "execution_count": 16,
   "metadata": {},
   "outputs": [],
   "source": [
    "import tensorflow as tf"
   ]
  },
  {
   "cell_type": "code",
   "execution_count": 17,
   "metadata": {},
   "outputs": [],
   "source": [
    "tensorboard_callback = tf.keras.callbacks.TensorBoard(\"logs\")\n"
   ]
  },
  {
   "cell_type": "code",
   "execution_count": null,
   "metadata": {},
   "outputs": [],
   "source": []
  },
  {
   "cell_type": "code",
   "execution_count": 18,
   "metadata": {},
   "outputs": [
    {
     "data": {
      "text/plain": [
       "{'dangerous': 0, 'safe': 1}"
      ]
     },
     "execution_count": 18,
     "metadata": {},
     "output_type": "execute_result"
    }
   ],
   "source": [
    "# y_train = labelencoder.fit_transform(y_train)\n",
    "mapping = dict(zip(labelencoder.classes_, range(len(labelencoder.classes_))))\n",
    "mapping"
   ]
  },
  {
   "cell_type": "code",
   "execution_count": 19,
   "metadata": {},
   "outputs": [],
   "source": [
    "y_test = to_categorical(y_test)\n",
    "y_train = to_categorical(y_train)"
   ]
  },
  {
   "cell_type": "code",
   "execution_count": 20,
   "metadata": {},
   "outputs": [
    {
     "name": "stdout",
     "output_type": "stream",
     "text": [
      "Collecting kapre\r\n",
      "  Downloading https://files.pythonhosted.org/packages/3f/2e/f540d1d1f05c764686163fdb5bb1e5c703f1528076d2829bfc3900683f06/kapre-0.1.4-py3-none-any.whl\r\n",
      "Requirement already satisfied: future in /opt/conda/lib/python3.6/site-packages (from kapre) (0.17.1)\r\n",
      "Requirement already satisfied: librosa>=0.5 in /opt/conda/lib/python3.6/site-packages (from kapre) (0.6.3)\r\n",
      "Requirement already satisfied: numpy>=1.8.0 in /opt/conda/lib/python3.6/site-packages (from kapre) (1.16.4)\r\n",
      "Requirement already satisfied: keras>=2.0.0 in /opt/conda/lib/python3.6/site-packages (from kapre) (2.2.4)\r\n",
      "Requirement already satisfied: numba>=0.38.0 in /opt/conda/lib/python3.6/site-packages (from librosa>=0.5->kapre) (0.38.0)\r\n",
      "Requirement already satisfied: scikit-learn!=0.19.0,>=0.14.0 in /opt/conda/lib/python3.6/site-packages (from librosa>=0.5->kapre) (0.21.2)\r\n",
      "Requirement already satisfied: audioread>=2.0.0 in /opt/conda/lib/python3.6/site-packages (from librosa>=0.5->kapre) (2.1.8)\r\n",
      "Requirement already satisfied: six>=1.3 in /opt/conda/lib/python3.6/site-packages (from librosa>=0.5->kapre) (1.12.0)\r\n",
      "Requirement already satisfied: scipy>=1.0.0 in /opt/conda/lib/python3.6/site-packages (from librosa>=0.5->kapre) (1.3.0)\r\n",
      "Requirement already satisfied: joblib>=0.12 in /opt/conda/lib/python3.6/site-packages (from librosa>=0.5->kapre) (0.13.2)\r\n",
      "Requirement already satisfied: resampy>=0.2.0 in /opt/conda/lib/python3.6/site-packages (from librosa>=0.5->kapre) (0.2.1)\r\n",
      "Requirement already satisfied: decorator>=3.0.0 in /opt/conda/lib/python3.6/site-packages (from librosa>=0.5->kapre) (4.4.0)\r\n",
      "Requirement already satisfied: keras-applications>=1.0.6 in /opt/conda/lib/python3.6/site-packages (from keras>=2.0.0->kapre) (1.0.8)\r\n",
      "Requirement already satisfied: pyyaml in /opt/conda/lib/python3.6/site-packages (from keras>=2.0.0->kapre) (5.1)\r\n",
      "Requirement already satisfied: h5py in /opt/conda/lib/python3.6/site-packages (from keras>=2.0.0->kapre) (2.9.0)\r\n",
      "Requirement already satisfied: keras-preprocessing>=1.0.5 in /opt/conda/lib/python3.6/site-packages (from keras>=2.0.0->kapre) (1.1.0)\r\n",
      "Requirement already satisfied: llvmlite>=0.23.0dev0 in /opt/conda/lib/python3.6/site-packages (from numba>=0.38.0->librosa>=0.5->kapre) (0.29.0)\r\n",
      "Installing collected packages: kapre\r\n",
      "Successfully installed kapre-0.1.4\r\n"
     ]
    }
   ],
   "source": [
    "!pip install kapre"
   ]
  },
  {
   "cell_type": "code",
   "execution_count": 21,
   "metadata": {},
   "outputs": [],
   "source": [
    "import keras\n",
    "from keras.models import Sequential\n",
    "from keras.layers import Dense, Dropout, Flatten, Conv2D, MaxPooling2D"
   ]
  },
  {
   "cell_type": "code",
   "execution_count": 22,
   "metadata": {},
   "outputs": [
    {
     "name": "stderr",
     "output_type": "stream",
     "text": [
      "/opt/conda/lib/python3.6/site-packages/ipykernel_launcher.py:29: UserWarning: Update your `Conv2D` call to the Keras 2 API: `Conv2D(20, kernel_size=(3, 3), activation=\"relu\", data_format=\"channels_first\")`\n",
      "/opt/conda/lib/python3.6/site-packages/ipykernel_launcher.py:30: UserWarning: Update your `Conv2D` call to the Keras 2 API: `Conv2D(39, kernel_size=(3, 3), activation=\"relu\", data_format=\"channels_first\")`\n",
      "/opt/conda/lib/python3.6/site-packages/ipykernel_launcher.py:32: UserWarning: Update your `Conv2D` call to the Keras 2 API: `Conv2D(15, kernel_size=(3, 3), activation=\"relu\", data_format=\"channels_first\")`\n",
      "/opt/conda/lib/python3.6/site-packages/ipykernel_launcher.py:33: UserWarning: Update your `Conv2D` call to the Keras 2 API: `Conv2D(39, kernel_size=(3, 3), activation=\"relu\", data_format=\"channels_first\")`\n",
      "/opt/conda/lib/python3.6/site-packages/ipykernel_launcher.py:35: UserWarning: Update your `Conv2D` call to the Keras 2 API: `Conv2D(25, kernel_size=(3, 3), activation=\"relu\", data_format=\"channels_first\")`\n",
      "/opt/conda/lib/python3.6/site-packages/ipykernel_launcher.py:36: UserWarning: Update your `Conv2D` call to the Keras 2 API: `Conv2D(39, kernel_size=(3, 3), activation=\"relu\", data_format=\"channels_first\")`\n",
      "/opt/conda/lib/python3.6/site-packages/ipykernel_launcher.py:38: UserWarning: Update your `Conv2D` call to the Keras 2 API: `Conv2D(22, kernel_size=(3, 3), activation=\"relu\", data_format=\"channels_first\")`\n",
      "/opt/conda/lib/python3.6/site-packages/ipykernel_launcher.py:39: UserWarning: Update your `Conv2D` call to the Keras 2 API: `Conv2D(39, kernel_size=(3, 3), activation=\"relu\", data_format=\"channels_first\")`\n",
      "/opt/conda/lib/python3.6/site-packages/ipykernel_launcher.py:41: UserWarning: Update your `Conv2D` call to the Keras 2 API: `Conv2D(22, kernel_size=(3, 3), activation=\"relu\", data_format=\"channels_first\")`\n",
      "/opt/conda/lib/python3.6/site-packages/ipykernel_launcher.py:42: UserWarning: Update your `Conv2D` call to the Keras 2 API: `Conv2D(39, kernel_size=(3, 3), activation=\"relu\", data_format=\"channels_first\")`\n",
      "/opt/conda/lib/python3.6/site-packages/ipykernel_launcher.py:44: UserWarning: Update your `Conv2D` call to the Keras 2 API: `Conv2D(25, kernel_size=(3, 3), activation=\"relu\", data_format=\"channels_first\")`\n",
      "/opt/conda/lib/python3.6/site-packages/ipykernel_launcher.py:45: UserWarning: Update your `Conv2D` call to the Keras 2 API: `Conv2D(39, kernel_size=(3, 3), activation=\"relu\", data_format=\"channels_first\")`\n",
      "/opt/conda/lib/python3.6/site-packages/ipykernel_launcher.py:46: UserWarning: Update your `Conv2D` call to the Keras 2 API: `Conv2D(45, kernel_size=(3, 3), activation=\"relu\", data_format=\"channels_first\")`\n"
     ]
    },
    {
     "name": "stdout",
     "output_type": "stream",
     "text": [
      "_________________________________________________________________\n",
      "Layer (type)                 Output Shape              Param #   \n",
      "=================================================================\n",
      "trainable_stft (Melspectrogr (None, 128, 94, 1)        296064    \n",
      "_________________________________________________________________\n",
      "additive_noise_1 (AdditiveNo (None, 128, 94, 1)        0         \n",
      "_________________________________________________________________\n",
      "normalization2d_1 (Normaliza (None, 128, 94, 1)        0         \n",
      "_________________________________________________________________\n",
      "conv2d_1 (Conv2D)            (None, 126, 92, 39)       390       \n",
      "_________________________________________________________________\n",
      "conv2d_2 (Conv2D)            (None, 20, 90, 37)        22700     \n",
      "_________________________________________________________________\n",
      "conv2d_3 (Conv2D)            (None, 39, 88, 35)        7059      \n",
      "_________________________________________________________________\n",
      "dropout_1 (Dropout)          (None, 39, 88, 35)        0         \n",
      "_________________________________________________________________\n",
      "conv2d_4 (Conv2D)            (None, 15, 86, 33)        5280      \n",
      "_________________________________________________________________\n",
      "conv2d_5 (Conv2D)            (None, 39, 84, 31)        5304      \n",
      "_________________________________________________________________\n",
      "dropout_2 (Dropout)          (None, 39, 84, 31)        0         \n",
      "_________________________________________________________________\n",
      "conv2d_6 (Conv2D)            (None, 25, 82, 29)        8800      \n",
      "_________________________________________________________________\n",
      "conv2d_7 (Conv2D)            (None, 39, 80, 27)        8814      \n",
      "_________________________________________________________________\n",
      "dropout_3 (Dropout)          (None, 39, 80, 27)        0         \n",
      "_________________________________________________________________\n",
      "conv2d_8 (Conv2D)            (None, 22, 78, 25)        7744      \n",
      "_________________________________________________________________\n",
      "conv2d_9 (Conv2D)            (None, 39, 76, 23)        7761      \n",
      "_________________________________________________________________\n",
      "dropout_4 (Dropout)          (None, 39, 76, 23)        0         \n",
      "_________________________________________________________________\n",
      "conv2d_10 (Conv2D)           (None, 22, 74, 21)        7744      \n",
      "_________________________________________________________________\n",
      "conv2d_11 (Conv2D)           (None, 39, 72, 19)        7761      \n",
      "_________________________________________________________________\n",
      "dropout_5 (Dropout)          (None, 39, 72, 19)        0         \n",
      "_________________________________________________________________\n",
      "conv2d_12 (Conv2D)           (None, 25, 70, 17)        8800      \n",
      "_________________________________________________________________\n",
      "conv2d_13 (Conv2D)           (None, 39, 68, 15)        8814      \n",
      "_________________________________________________________________\n",
      "conv2d_14 (Conv2D)           (None, 45, 66, 13)        15840     \n",
      "_________________________________________________________________\n",
      "average_pooling2d_1 (Average (None, 22, 33, 13)        0         \n",
      "_________________________________________________________________\n",
      "flatten_1 (Flatten)          (None, 9438)              0         \n",
      "_________________________________________________________________\n",
      "dense_1 (Dense)              (None, 2)                 18878     \n",
      "=================================================================\n",
      "Total params: 437,753\n",
      "Trainable params: 141,689\n",
      "Non-trainable params: 296,064\n",
      "_________________________________________________________________\n"
     ]
    }
   ],
   "source": [
    "import keras\n",
    "import kapre\n",
    "from keras.models import Sequential\n",
    "from keras.layers import Dense,AveragePooling2D\n",
    "from kapre.time_frequency import Melspectrogram\n",
    "from kapre.utils import Normalization2D\n",
    "from kapre.augmentation import AdditiveNoise\n",
    "\n",
    "# 6 channels (!), maybe 1-sec audio signal, for an example.\n",
    "\n",
    "sr = 16000\n",
    "input_shape = (1,sr*3)\n",
    "model = Sequential()\n",
    "# A mel-spectrogram layer\n",
    "model.add(Melspectrogram(n_dft=512, n_hop=512, input_shape=input_shape,\n",
    "                         padding='same', sr=sr, n_mels=128,\n",
    "                         fmin=0.0, fmax=sr/2, power_melgram=1.0,\n",
    "                         return_decibel_melgram=True,trainable_fb=False,\n",
    "                         trainable_kernel=False,\n",
    "                         name='trainable_stft'))\n",
    "# Maybe some additive white noise.\n",
    "model.add(AdditiveNoise(power=0.1))\n",
    "# If you wanna normalise it per-frequency\n",
    "model.add(Normalization2D(str_axis='freq')) # or 'channel', 'time', 'batch', 'data_sample'\n",
    "# After this, it's just a usual keras workflow. For example..\n",
    "# Add some layers, e.g., model.add(some convolution layers..)\n",
    "# Compile the model\n",
    "model.add(Conv2D(39, kernel_size=(3, 3), activation='relu', input_shape=(20, 35, 1)))\n",
    "model.add(Conv2D(20, kernel_size=(3, 3), activation='relu',dim_ordering=\"th\"))\n",
    "model.add(Conv2D(39, kernel_size=(3, 3), activation='relu',dim_ordering=\"th\"))\n",
    "model.add(Dropout(0.25))\n",
    "model.add(Conv2D(15, kernel_size=(3, 3), activation='relu',dim_ordering=\"th\"))\n",
    "model.add(Conv2D(39, kernel_size=(3, 3), activation='relu',dim_ordering=\"th\"))\n",
    "model.add(Dropout(0.25))\n",
    "model.add(Conv2D(25, kernel_size=(3, 3), activation='relu',dim_ordering=\"th\"))\n",
    "model.add(Conv2D(39, kernel_size=(3, 3), activation='relu',dim_ordering=\"th\"))\n",
    "model.add(Dropout(0.25))\n",
    "model.add(Conv2D(22, kernel_size=(3, 3), activation='relu',dim_ordering=\"th\"))\n",
    "model.add(Conv2D(39, kernel_size=(3, 3), activation='relu',dim_ordering=\"th\"))\n",
    "model.add(Dropout(0.25))\n",
    "model.add(Conv2D(22, kernel_size=(3, 3), activation='relu',dim_ordering=\"th\"))\n",
    "model.add(Conv2D(39, kernel_size=(3, 3), activation='relu',dim_ordering=\"th\"))\n",
    "model.add(Dropout(0.25))\n",
    "model.add(Conv2D(25, kernel_size=(3, 3), activation='relu',dim_ordering=\"th\"))\n",
    "model.add(Conv2D(39, kernel_size=(3, 3), activation='relu',dim_ordering=\"th\"))\n",
    "model.add(Conv2D(45, kernel_size=(3, 3), activation='relu',dim_ordering=\"th\"))\n",
    "model.add(AveragePooling2D(pool_size=(2, 2)))\n",
    "model.add(Flatten())\n",
    "model.add(Dense(2, activation='softmax'))\n",
    "model.compile(loss=keras.losses.categorical_crossentropy,\n",
    "                  optimizer=keras.optimizers.adam(),metrics=['accuracy'])\n",
    "model.summary()"
   ]
  },
  {
   "cell_type": "code",
   "execution_count": 23,
   "metadata": {},
   "outputs": [],
   "source": [
    "tensorboard_callback = tf.keras.callbacks.TensorBoard(\"logs/esna-environment\")"
   ]
  },
  {
   "cell_type": "code",
   "execution_count": 24,
   "metadata": {},
   "outputs": [
    {
     "name": "stdout",
     "output_type": "stream",
     "text": [
      "Train on 4043 samples, validate on 1733 samples\n",
      "Epoch 1/50\n",
      "4043/4043 [==============================] - 10s 3ms/step - loss: 0.3651 - acc: 0.8513 - val_loss: 0.2753 - val_acc: 0.8661\n",
      "Epoch 2/50\n",
      "4043/4043 [==============================] - 5s 1ms/step - loss: 0.2770 - acc: 0.8793 - val_loss: 0.4497 - val_acc: 0.8350\n",
      "Epoch 3/50\n",
      "4043/4043 [==============================] - 5s 1ms/step - loss: 0.4871 - acc: 0.8551 - val_loss: 0.3818 - val_acc: 0.8557\n",
      "Epoch 4/50\n",
      "4043/4043 [==============================] - 5s 1ms/step - loss: 0.2959 - acc: 0.8828 - val_loss: 0.3490 - val_acc: 0.8702\n",
      "Epoch 5/50\n",
      "4043/4043 [==============================] - 5s 1ms/step - loss: 0.2041 - acc: 0.9213 - val_loss: 0.2241 - val_acc: 0.9008\n",
      "Epoch 6/50\n",
      "4043/4043 [==============================] - 5s 1ms/step - loss: 0.1304 - acc: 0.9500 - val_loss: 0.1328 - val_acc: 0.9417\n",
      "Epoch 7/50\n",
      "4043/4043 [==============================] - 5s 1ms/step - loss: 0.1049 - acc: 0.9577 - val_loss: 0.0999 - val_acc: 0.9683\n",
      "Epoch 8/50\n",
      "4043/4043 [==============================] - 5s 1ms/step - loss: 0.0765 - acc: 0.9760 - val_loss: 0.0718 - val_acc: 0.9792\n",
      "Epoch 9/50\n",
      "4043/4043 [==============================] - 5s 1ms/step - loss: 0.0697 - acc: 0.9750 - val_loss: 0.1227 - val_acc: 0.9504\n",
      "Epoch 10/50\n",
      "4043/4043 [==============================] - 5s 1ms/step - loss: 0.0567 - acc: 0.9802 - val_loss: 0.0752 - val_acc: 0.9827\n",
      "Epoch 11/50\n",
      "4043/4043 [==============================] - 5s 1ms/step - loss: 0.0531 - acc: 0.9817 - val_loss: 0.0747 - val_acc: 0.9763\n",
      "Epoch 12/50\n",
      "4043/4043 [==============================] - 5s 1ms/step - loss: 0.0468 - acc: 0.9844 - val_loss: 0.0869 - val_acc: 0.9700\n",
      "Epoch 13/50\n",
      "4043/4043 [==============================] - 5s 1ms/step - loss: 0.0662 - acc: 0.9763 - val_loss: 0.0669 - val_acc: 0.9792\n",
      "Epoch 14/50\n",
      "4043/4043 [==============================] - 5s 1ms/step - loss: 0.0387 - acc: 0.9871 - val_loss: 0.0481 - val_acc: 0.9873\n",
      "Epoch 15/50\n",
      "4043/4043 [==============================] - 5s 1ms/step - loss: 0.0391 - acc: 0.9886 - val_loss: 0.0809 - val_acc: 0.9688\n",
      "Epoch 16/50\n",
      "4043/4043 [==============================] - 5s 1ms/step - loss: 0.0385 - acc: 0.9869 - val_loss: 0.0436 - val_acc: 0.9862\n",
      "Epoch 17/50\n",
      "4043/4043 [==============================] - 5s 1ms/step - loss: 0.0233 - acc: 0.9933 - val_loss: 0.0374 - val_acc: 0.9885\n",
      "Epoch 18/50\n",
      "4043/4043 [==============================] - 5s 1ms/step - loss: 0.0205 - acc: 0.9946 - val_loss: 0.0485 - val_acc: 0.9885\n",
      "Epoch 19/50\n",
      "4043/4043 [==============================] - 5s 1ms/step - loss: 0.0208 - acc: 0.9931 - val_loss: 0.0381 - val_acc: 0.9913\n",
      "Epoch 20/50\n",
      "4043/4043 [==============================] - 5s 1ms/step - loss: 0.0125 - acc: 0.9960 - val_loss: 0.0494 - val_acc: 0.9902\n",
      "Epoch 21/50\n",
      "4043/4043 [==============================] - 5s 1ms/step - loss: 0.0230 - acc: 0.9921 - val_loss: 0.0368 - val_acc: 0.9913\n",
      "Epoch 22/50\n",
      "4043/4043 [==============================] - 5s 1ms/step - loss: 0.0123 - acc: 0.9953 - val_loss: 0.0266 - val_acc: 0.9937\n",
      "Epoch 23/50\n",
      "4043/4043 [==============================] - 5s 1ms/step - loss: 0.0213 - acc: 0.9938 - val_loss: 0.0558 - val_acc: 0.9867\n",
      "Epoch 24/50\n",
      "4043/4043 [==============================] - 5s 1ms/step - loss: 0.0211 - acc: 0.9933 - val_loss: 0.0550 - val_acc: 0.9867\n",
      "Epoch 25/50\n",
      "4043/4043 [==============================] - 5s 1ms/step - loss: 0.0094 - acc: 0.9958 - val_loss: 0.0374 - val_acc: 0.9931\n",
      "Epoch 26/50\n",
      "4043/4043 [==============================] - 5s 1ms/step - loss: 0.0127 - acc: 0.9948 - val_loss: 0.0374 - val_acc: 0.9908\n",
      "Epoch 27/50\n",
      "4043/4043 [==============================] - 5s 1ms/step - loss: 0.0076 - acc: 0.9973 - val_loss: 0.0519 - val_acc: 0.9890\n",
      "Epoch 28/50\n",
      "4043/4043 [==============================] - 5s 1ms/step - loss: 0.0079 - acc: 0.9975 - val_loss: 0.0350 - val_acc: 0.9931\n",
      "Epoch 29/50\n",
      "4043/4043 [==============================] - 5s 1ms/step - loss: 0.0104 - acc: 0.9970 - val_loss: 0.0412 - val_acc: 0.9896\n",
      "Epoch 30/50\n",
      "4043/4043 [==============================] - 5s 1ms/step - loss: 0.0130 - acc: 0.9960 - val_loss: 0.0317 - val_acc: 0.9902\n",
      "Epoch 31/50\n",
      "4043/4043 [==============================] - 5s 1ms/step - loss: 0.0201 - acc: 0.9931 - val_loss: 0.0381 - val_acc: 0.9902\n",
      "Epoch 32/50\n",
      "4043/4043 [==============================] - 5s 1ms/step - loss: 0.0120 - acc: 0.9963 - val_loss: 0.0376 - val_acc: 0.9908\n",
      "Epoch 33/50\n",
      "4043/4043 [==============================] - 5s 1ms/step - loss: 0.0049 - acc: 0.9983 - val_loss: 0.0396 - val_acc: 0.9937\n",
      "Epoch 34/50\n",
      "4043/4043 [==============================] - 5s 1ms/step - loss: 0.0116 - acc: 0.9941 - val_loss: 0.0542 - val_acc: 0.9902\n",
      "Epoch 35/50\n",
      "4043/4043 [==============================] - 5s 1ms/step - loss: 0.0152 - acc: 0.9955 - val_loss: 0.0475 - val_acc: 0.9902\n",
      "Epoch 36/50\n",
      "4043/4043 [==============================] - 5s 1ms/step - loss: 0.0057 - acc: 0.9980 - val_loss: 0.0639 - val_acc: 0.9896\n",
      "Epoch 37/50\n",
      "4043/4043 [==============================] - 5s 1ms/step - loss: 0.0211 - acc: 0.9933 - val_loss: 0.0341 - val_acc: 0.9931\n",
      "Epoch 38/50\n",
      "4043/4043 [==============================] - 5s 1ms/step - loss: 0.0016 - acc: 1.0000 - val_loss: 0.0355 - val_acc: 0.9948\n",
      "Epoch 39/50\n",
      "4043/4043 [==============================] - 5s 1ms/step - loss: 0.0061 - acc: 0.9978 - val_loss: 0.1223 - val_acc: 0.9688\n",
      "Epoch 40/50\n",
      "4043/4043 [==============================] - 5s 1ms/step - loss: 0.0135 - acc: 0.9948 - val_loss: 0.0477 - val_acc: 0.9913\n",
      "Epoch 41/50\n",
      "4043/4043 [==============================] - 5s 1ms/step - loss: 0.0104 - acc: 0.9963 - val_loss: 0.0481 - val_acc: 0.9919\n",
      "Epoch 42/50\n",
      "4043/4043 [==============================] - 5s 1ms/step - loss: 0.0100 - acc: 0.9975 - val_loss: 0.0541 - val_acc: 0.9919\n",
      "Epoch 43/50\n",
      "4043/4043 [==============================] - 5s 1ms/step - loss: 0.0168 - acc: 0.9955 - val_loss: 0.0450 - val_acc: 0.9902\n",
      "Epoch 44/50\n",
      "4043/4043 [==============================] - 5s 1ms/step - loss: 0.0084 - acc: 0.9970 - val_loss: 0.0488 - val_acc: 0.9867\n",
      "Epoch 45/50\n",
      "4043/4043 [==============================] - 5s 1ms/step - loss: 0.0067 - acc: 0.9975 - val_loss: 0.0524 - val_acc: 0.9919\n",
      "Epoch 46/50\n",
      "4043/4043 [==============================] - 5s 1ms/step - loss: 0.0157 - acc: 0.9963 - val_loss: 0.0266 - val_acc: 0.9931\n",
      "Epoch 47/50\n",
      "4043/4043 [==============================] - 5s 1ms/step - loss: 0.0022 - acc: 0.9995 - val_loss: 0.0259 - val_acc: 0.9942\n",
      "Epoch 48/50\n",
      "4043/4043 [==============================] - 5s 1ms/step - loss: 0.0040 - acc: 0.9985 - val_loss: 0.0482 - val_acc: 0.9931\n",
      "Epoch 49/50\n",
      "4043/4043 [==============================] - 5s 1ms/step - loss: 0.0122 - acc: 0.9963 - val_loss: 0.0458 - val_acc: 0.9919\n",
      "Epoch 50/50\n",
      "4043/4043 [==============================] - 5s 1ms/step - loss: 0.0042 - acc: 0.9983 - val_loss: 0.0405 - val_acc: 0.9913\n"
     ]
    },
    {
     "data": {
      "text/plain": [
       "<keras.callbacks.History at 0x7fb10e006be0>"
      ]
     },
     "execution_count": 24,
     "metadata": {},
     "output_type": "execute_result"
    }
   ],
   "source": [
    "model.fit(X_train, y_train, batch_size=50, epochs=50, verbose=1,class_weight=class_weights, validation_data=(X_test, y_test), callbacks=[tensorboard_callback])"
   ]
  },
  {
   "cell_type": "code",
   "execution_count": 25,
   "metadata": {},
   "outputs": [
    {
     "name": "stdout",
     "output_type": "stream",
     "text": [
      "trainable_stft_input\n",
      "dense_1/Softmax\n"
     ]
    }
   ],
   "source": [
    "model.save(\"keyword.h5\")\n",
    "print(model.input.op.name)\n",
    "print(model.output.op.name)"
   ]
  },
  {
   "cell_type": "code",
   "execution_count": 26,
   "metadata": {},
   "outputs": [],
   "source": [
    "!rm -rf dataset"
   ]
  },
  {
   "cell_type": "code",
   "execution_count": 27,
   "metadata": {},
   "outputs": [
    {
     "name": "stdout",
     "output_type": "stream",
     "text": [
      "__notebook__.ipynb  __output__.json  keyword.h5  logs\r\n"
     ]
    }
   ],
   "source": [
    "!ls"
   ]
  },
  {
   "cell_type": "code",
   "execution_count": 28,
   "metadata": {},
   "outputs": [
    {
     "data": {
      "text/html": [
       "\n",
       "<!-- JUPYTER_TENSORBOARD_TEST_MARKER -->\n",
       "<script>\n",
       "    const req = {\n",
       "        method: 'POST',\n",
       "        contentType: 'application/json',\n",
       "        body: JSON.stringify({ 'logdir': 'logs' }),\n",
       "        headers: { 'Content-Type': 'application/json' }\n",
       "    };\n",
       "\n",
       "    const baseUrl = Jupyter.notebook.base_url;\n",
       "\n",
       "    fetch(baseUrl + 'api/tensorboard', req)\n",
       "        .then(res => res.json())\n",
       "        .then(res => {\n",
       "            const iframe = document.getElementById('tensorboard-6539af98-eb15-4b56-ad44-20fe156228da');\n",
       "            iframe.src = baseUrl + 'tensorboard/' + res.name;\n",
       "            iframe.style.display = 'block';\n",
       "        });\n",
       "</script>\n",
       "\n",
       "<iframe\n",
       "    id=\"tensorboard-6539af98-eb15-4b56-ad44-20fe156228da\"\n",
       "    style=\"width: 100%; height: 620px; display: none;\"\n",
       "    frameBorder=\"0\">\n",
       "</iframe>\n"
      ],
      "text/plain": [
       "<IPython.core.display.HTML object>"
      ]
     },
     "metadata": {},
     "output_type": "display_data"
    }
   ],
   "source": [
    "%load_ext tensorboard.notebook\n",
    "%tensorboard --logdir logs"
   ]
  },
  {
   "cell_type": "markdown",
   "metadata": {},
   "source": []
  },
  {
   "cell_type": "code",
   "execution_count": 29,
   "metadata": {},
   "outputs": [],
   "source": [
    "!rm -rf logs"
   ]
  },
  {
   "cell_type": "code",
   "execution_count": 30,
   "metadata": {},
   "outputs": [
    {
     "name": "stdout",
     "output_type": "stream",
     "text": [
      "__notebook__.ipynb  __output__.json  keyword.h5\r\n"
     ]
    }
   ],
   "source": [
    "!ls"
   ]
  },
  {
   "cell_type": "code",
   "execution_count": null,
   "metadata": {},
   "outputs": [],
   "source": []
  },
  {
   "cell_type": "code",
   "execution_count": null,
   "metadata": {},
   "outputs": [],
   "source": []
  },
  {
   "cell_type": "code",
   "execution_count": null,
   "metadata": {},
   "outputs": [],
   "source": []
  },
  {
   "cell_type": "code",
   "execution_count": null,
   "metadata": {},
   "outputs": [],
   "source": []
  }
 ],
 "metadata": {
  "kernelspec": {
   "display_name": "Python 3",
   "language": "python",
   "name": "python3"
  },
  "language_info": {
   "codemirror_mode": {
    "name": "ipython",
    "version": 3
   },
   "file_extension": ".py",
   "mimetype": "text/x-python",
   "name": "python",
   "nbconvert_exporter": "python",
   "pygments_lexer": "ipython3",
   "version": "3.8.3"
  }
 },
 "nbformat": 4,
 "nbformat_minor": 1
}
